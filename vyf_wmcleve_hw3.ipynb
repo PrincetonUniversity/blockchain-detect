{
 "cells": [
  {
   "cell_type": "code",
   "execution_count": 30,
   "metadata": {
    "collapsed": false
   },
   "outputs": [],
   "source": [
    "# Imports\n",
    "\n",
    "import numpy as np\n",
    "import pandas as pd\n",
    "import os, os.path\n",
    "from itertools import *\n",
    "%matplotlib inline\n",
    "import matplotlib\n",
    "import matplotlib.pyplot as plt\n",
    "import math\n",
    "import random\n",
    "import scipy.stats\n",
    "import sys\n",
    "from joblib import Parallel, delayed\n",
    "import multiprocessing\n",
    "nproc = max(1, multiprocessing.cpu_count() - 1)\n",
    "from scipy.sparse import csr_matrix\n",
    "\n",
    "# Warnings\n",
    "\n",
    "import warnings\n",
    "warnings.filterwarnings('ignore')\n",
    "\n",
    "# Uncompress data\n",
    "\n",
    "if not os.path.exists('data'):\n",
    "    os.mkdir('data')\n",
    "\n",
    "def have_data():\n",
    "    return {'testTriplets.txt', 'txTripletsCounts.txt'}.issubset(set(os.listdir('data')))\n",
    "if not have_data():\n",
    "    ! cp Assignment3_Bitcoin/data.zip .\n",
    "    ! unzip data.zip\n",
    "    ! rm data.zip\n",
    "    if not have_data():\n",
    "        raise Exception('Error unpacking data')\n",
    "        \n",
    "# Extract data in df form and as a sparse matrix\n",
    "\n",
    "dftrain = pd.read_csv('data/txTripletsCounts.txt',\n",
    "                      header=None,\n",
    "                      index_col=None,\n",
    "                      sep=' ',\n",
    "                      names=['sender','receiver','transaction'])\n",
    "\n",
    "dftest = pd.read_csv('data/testTriplets.txt',\n",
    "                     header=None,\n",
    "                     index_col=None,\n",
    "                     sep=' ',\n",
    "                     names=['sender','receiver','transaction'])\n",
    "dim = max(df[c].max() for df in (dftrain, dftest) for c in ['sender', 'receiver'])\n",
    "dim += 1\n",
    "train_csr = csr_matrix((dftrain['transaction'],(dftrain['sender'],dftrain['receiver'])),\n",
    "                       shape=(dim,dim),\n",
    "                       dtype=float)"
   ]
  },
  {
   "cell_type": "markdown",
   "metadata": {},
   "source": [
    "Exploratory data analysis"
   ]
  },
  {
   "cell_type": "code",
   "execution_count": 26,
   "metadata": {
    "collapsed": false
   },
   "outputs": [
    {
     "name": "stdout",
     "output_type": "stream",
     "text": [
      "count    3.348026e+06\n",
      "mean     4.725741e+00\n",
      "std      1.284948e+02\n",
      "min      1.000000e+00\n",
      "25%      1.000000e+00\n",
      "50%      1.000000e+00\n",
      "75%      2.000000e+00\n",
      "max      4.163900e+04\n",
      "Name: transaction, dtype: float64\n"
     ]
    }
   ],
   "source": [
    "# Time data is not present. Thus, we'll be inferring probability of interaction\n",
    "# as a stationary distribution over time, informed by the number of iteractions in the past.\n",
    "print(dftrain['transaction'].describe())"
   ]
  },
  {
   "cell_type": "code",
   "execution_count": 27,
   "metadata": {
    "collapsed": false
   },
   "outputs": [
    {
     "name": "stdout",
     "output_type": "stream",
     "text": [
      "n_sender 443652\n",
      "n_receiver 439602\n",
      "n_nonmissing 3348026\n",
      "sparsity 0.999982833304\n"
     ]
    }
   ],
   "source": [
    "n_sender = dftrain['sender'].unique().size\n",
    "n_receiver = dftrain['receiver'].unique().size\n",
    "n_nonmissing = dftrain['transaction'].count()\n",
    "sparsity = 1 - n_nonmissing*1.0/n_sender/n_receiver\n",
    "for i in ['n_sender', 'n_receiver', 'n_nonmissing', 'sparsity']: print(i, eval(i))"
   ]
  },
  {
   "cell_type": "code",
   "execution_count": null,
   "metadata": {
    "collapsed": true
   },
   "outputs": [],
   "source": [
    "# Convert to CSR python matrix"
   ]
  },
  {
   "cell_type": "code",
   "execution_count": null,
   "metadata": {
    "collapsed": true
   },
   "outputs": [],
   "source": [
    "# analysis of outliers: surely, they'll repeat\n",
    "# how graphically similar are they to the rest? look at indegree, outdegree of > 1 interactions."
   ]
  },
  {
   "cell_type": "code",
   "execution_count": 23,
   "metadata": {
    "collapsed": false
   },
   "outputs": [],
   "source": [
    "# Graph analysis (USE NetworkX)\n",
    "# Look at indegree / outdegree distribution\n",
    "# Edges / vertices ratio\n",
    "# global cluster coefficents\n",
    "# graph assortrativity\n",
    "# (Takes and Kosters 2013) http://www.mdpi.com/1999-4893/6/1/100/htm\n",
    "# Sample a distribution (q = 0.1) for these metrics for each vertex\n",
    "# local cluster coefficients, vertex eccentricity, vertex connectivity, closeness centrality\n",
    "# betweeness centrality, graph recopricity\n",
    "\n",
    "# look at vertex correlations within clusters -> define clustering algorithm based on this.\n",
    "# cosine, corr similarity ok (dispels frequency info, intentionally)\n",
    "# discrete similarity metrics\n",
    "# jaccard is good for intersection / union (multi-intersection / multi-union?)\n",
    "# dice is the same as above."
   ]
  },
  {
   "cell_type": "code",
   "execution_count": null,
   "metadata": {
    "collapsed": true
   },
   "outputs": [],
   "source": [
    "#1. linkpred -> figure out what this actually does\n",
    "# Overall similarity-based algorithm: for undirected (Nowell Kleinberg 2007) - only works for undirected\n",
    "# AA approach.\n",
    "#2. graphsim -> can't use similarity(a, b) to predict interaction, but can use similarities to\n",
    "# predict interaction x -> b) given interaction (x -> a) exists + outward. simrank (https://en.wikipedia.org/wiki/SimRank)\n",
    "# (https://pypi.python.org/pypi/graphsim) need to find a paper for simrank to cite\n",
    "# 3. Clustering -> do a coarser clustering by deleting \"tenuous\" edges, smarter prediction on the cluster.\n",
    "# (Liben-Nowell and Kleninberg 2007)\n",
    "# 4. low-rank approximation (paper above works, any other papers for)\n",
    "# setup CV to evaluate all of these.\n",
    "# look into NetworkX prediction"
   ]
  },
  {
   "cell_type": "markdown",
   "metadata": {},
   "source": [
    "Various attempted methods"
   ]
  },
  {
   "cell_type": "code",
   "execution_count": null,
   "metadata": {
    "collapsed": false
   },
   "outputs": [],
   "source": [
    "# Create a simple CV scheme (relying on our time-stationarity assumption)\n",
    "# for evaluation.\n",
    "\n",
    "# The predictor to cross-validate, f, should accept a CSR matrix with historical interaction\n",
    "# counts and output a \n",
    "# TODO: can't do CV easily - don't have temporal info"
   ]
  },
  {
   "cell_type": "code",
   "execution_count": 31,
   "metadata": {
    "collapsed": false
   },
   "outputs": [
    {
     "name": "stdout",
     "output_type": "stream",
     "text": [
      "Area under the ROC curve 0.641620888889\n"
     ]
    },
    {
     "data": {
      "image/png": "[encoded data removed]",
      "text/plain": [
       "<matplotlib.figure.Figure at 0x7f9757b04510>"
      ]
     },
     "metadata": {},
     "output_type": "display_data"
    }
   ],
   "source": [
    "from sklearn.decomposition import TruncatedSVD\n",
    "from scipy.sparse.linalg import svds\n",
    "from sklearn.metrics import roc_curve, auc\n",
    "train_csr = csr_matrix((dftrain['transaction'],(dftrain['sender'],dftrain['receiver'])),\n",
    "                       shape=(dim,dim),\n",
    "                       dtype=float)\n",
    "u, s, vt = svds(train_csr, k=10, tol=1e-10, which = 'LM')\n",
    "pred = [np.sum(u[row['sender'],:] * s * vt[:,row['receiver']]) \n",
    "        for index,row in dftest.iterrows()]\n",
    "label = dftest['transaction']\n",
    "fpr, tpr, thresholds = roc_curve(label, pred)\n",
    "roc_auc = auc(fpr, tpr)\n",
    "print('Area under the ROC curve', roc_auc)\n",
    "matplotlib.rcParams['figure.figsize'] = (10, 10)\n",
    "plt.plot(fpr, tpr, color='magenta', label='ROC curve (area = %0.2f)' % roc_auc)\n",
    "plt.plot([0, 1], [0, 1], 'k--')\n",
    "plt.xlim([0.0, 1.0])\n",
    "plt.ylim([0.0, 1.05])\n",
    "plt.xlabel('False Positive Rate')\n",
    "plt.ylabel('True Positive Rate')\n",
    "plt.title('Receiver operating characteristic example')\n",
    "plt.legend(loc=\"lower right\")\n",
    "plt.show()"
   ]
  }
 ],
 "metadata": {
  "kernelspec": {
   "display_name": "Python 3",
   "language": "python",
   "name": "python3"
  },
  "language_info": {
   "codemirror_mode": {
    "name": "ipython",
    "version": 3
   },
   "file_extension": ".py",
   "mimetype": "text/x-python",
   "name": "python",
   "nbconvert_exporter": "python",
   "pygments_lexer": "ipython3",
   "version": "3.3.2"
  }
 },
 "nbformat": 4,
 "nbformat_minor": 0
}
