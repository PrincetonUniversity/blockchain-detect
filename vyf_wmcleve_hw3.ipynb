{
 "cells": [
  {
   "cell_type": "code",
   "execution_count": 6,
   "metadata": {
    "collapsed": false
   },
   "outputs": [
    {
     "name": "stdout",
     "output_type": "stream",
     "text": [
      "Archive:  data.zip\n",
      "  inflating: data/.DS_Store          \n",
      "   creating: __MACOSX/\n",
      "   creating: __MACOSX/data/\n",
      "  inflating: __MACOSX/data/._.DS_Store  \n",
      "  inflating: data/testTriplets.txt   \n",
      "  inflating: __MACOSX/data/._testTriplets.txt  \n",
      "  inflating: data/txTripletsCounts.txt  \n",
      "  inflating: __MACOSX/data/._txTripletsCounts.txt  \n"
     ]
    }
   ],
   "source": [
    "# Imports\n",
    "\n",
    "import numpy as np\n",
    "import pandas as pd\n",
    "import os, os.path\n",
    "from itertools import *\n",
    "%matplotlib inline\n",
    "import matplotlib.pyplot as plt\n",
    "import math\n",
    "import random\n",
    "import scipy.stats\n",
    "import sys\n",
    "from joblib import Parallel, delayed\n",
    "import multiprocessing\n",
    "nproc = max(1, multiprocessing.cpu_count() - 1)\n",
    "\n",
    "# Warnings\n",
    "\n",
    "import warnings\n",
    "warnings.filterwarnings('ignore')\n",
    "\n",
    "# Get data\n",
    "\n",
    "if not os.path.exists('data'):\n",
    "    os.mkdir('data')\n",
    "\n",
    "def have_data():\n",
    "    return {'testTriplets.txt', 'txTripletsCounts.txt'}.issubset(set(os.listdir('data')))\n",
    "if not have_data():\n",
    "    ! cp Assignment3_Bitcoin/data.zip .\n",
    "    ! unzip data.zip\n",
    "    ! rm data.zip\n",
    "    if not have_data():\n",
    "        raise Exception('Error unpacking data')"
   ]
  }
 ],
 "metadata": {
  "kernelspec": {
   "display_name": "Python 3",
   "language": "python",
   "name": "python3"
  },
  "language_info": {
   "codemirror_mode": {
    "name": "ipython",
    "version": 3
   },
   "file_extension": ".py",
   "mimetype": "text/x-python",
   "name": "python",
   "nbconvert_exporter": "python",
   "pygments_lexer": "ipython3",
   "version": "3.3.2"
  }
 },
 "nbformat": 4,
 "nbformat_minor": 0
}
