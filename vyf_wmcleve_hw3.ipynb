{
 "cells": [
  {
   "cell_type": "code",
   "execution_count": 2,
   "metadata": {
    "collapsed": false
   },
   "outputs": [],
   "source": [
    "# Imports\n",
    "\n",
    "%matplotlib inline\n",
    "import matplotlib\n",
    "import matplotlib.pyplot as plt\n",
    "import numpy as np\n",
    "import pandas as pd\n",
    "import os, os.path\n",
    "from itertools import *\n",
    "import math\n",
    "import random\n",
    "import scipy.stats\n",
    "import sys\n",
    "import random\n",
    "from joblib import Parallel, delayed\n",
    "import multiprocessing\n",
    "nproc = max(1, multiprocessing.cpu_count())\n",
    "from scipy.sparse import csr_matrix\n",
    "import scipy.sparse\n",
    "\n",
    "if nproc > 4:\n",
    "    # timesharing env, only for part of them\n",
    "    nproc = nproc * 4 // 5\n",
    "    \n",
    "# Warnings\n",
    "\n",
    "import warnings\n",
    "warnings.filterwarnings('ignore')\n",
    "\n",
    "# Uncompress data\n",
    "\n",
    "if not os.path.exists('data'):\n",
    "    os.mkdir('data')\n",
    "\n",
    "def have_data():\n",
    "    return {'testTriplets.txt', 'txTripletsCounts.txt'}.issubset(set(os.listdir('data')))\n",
    "if not have_data():\n",
    "    ! cp Assignment3_Bitcoin/data.zip .\n",
    "\n",
    "# Warnings\n",
    "\n",
    "import warnings\n",
    "warnings.filterwarnings('ignore')\n",
    "\n",
    "# Uncompress data\n",
    "\n",
    "if not os.path.exists('data'):\n",
    "    os.mkdir('data')\n",
    "\n",
    "def have_data():\n",
    "    return {'testTriplets.txt', 'txTripletsCounts.txt'}.issubset(set(os.listdir('data')))\n",
    "if not have_data():\n",
    "    ! cp Assignment3_Bitcoin/data.zip .\n",
    "    ! unzip data.zip\n",
    "    ! rm data.zip\n",
    "    if not have_data():\n",
    "        raise Exception('Error unpacking data')\n",
    "    ! unzip data.zip\n",
    "    ! rm data.zip\n",
    "    if not have_data():\n",
    "        raise Exception('Error unpacking data')\n",
    "        \n",
    "# Extract data in df form and as a sparse matrix\n",
    "\n",
    "dftrain = pd.read_csv('data/txTripletsCounts.txt',\n",
    "                      header=None,\n",
    "                      index_col=None,\n",
    "                      sep=' ',\n",
    "                      names=['sender','receiver','transaction'])\n",
    "\n",
    "dftest = pd.read_csv('data/testTriplets.txt',\n",
    "                     header=None,\n",
    "                     index_col=None,\n",
    "                     sep=' ',\n",
    "                     names=['sender','receiver','transaction'])\n",
    "dim = max(df[c].max() for df in (dftrain, dftest) for c in ['sender', 'receiver'])\n",
    "dim += 1\n",
    "\n",
    "# both the matrices here have m[i, j] return the number of transactions from i to j\n",
    "# in training.\n",
    "train_csr = csr_matrix((dftrain['transaction'],(dftrain['sender'],dftrain['receiver'])),\n",
    "                       shape=(dim,dim),\n",
    "                       dtype=float)\n",
    "train_csc = train_csr.tocsc()\n",
    "\n",
    "def maxlgbin(series): return math.ceil(np.log2(series.max()))"
   ]
  },
  {
   "cell_type": "code",
   "execution_count": 4,
   "metadata": {
    "collapsed": true
   },
   "outputs": [],
   "source": [
    "# As a NetworkX graph\n",
    "\n",
    "import networkx as nx\n",
    "import scipy\n",
    "G = nx.from_scipy_sparse_matrix(train_csr, parallel_edges=False, create_using=nx.DiGraph())"
   ]
  },
  {
   "cell_type": "markdown",
   "metadata": {},
   "source": [
    "Exploratory data analysis"
   ]
  },
  {
   "cell_type": "code",
   "execution_count": 3,
   "metadata": {
    "collapsed": false
   },
   "outputs": [
    {
     "name": "stdout",
     "output_type": "stream",
     "text": [
      "count    3.348026e+06\n",
      "mean     4.725741e+00\n",
      "std      1.284948e+02\n",
      "min      1.000000e+00\n",
      "25%      1.000000e+00\n",
      "50%      1.000000e+00\n",
      "75%      2.000000e+00\n",
      "max      4.163900e+04\n",
      "Name: transaction, dtype: float64\n"
     ]
    },
    {
     "data": {
      "image/png": "[encoded data removed]",
      "text/plain": [
       "<matplotlib.figure.Figure at 0x7fc2b41683d0>"
      ]
     },
     "metadata": {},
     "output_type": "display_data"
    }
   ],
   "source": [
    "# Time data is not present. Thus, we'll be inferring probability of interaction\n",
    "# as a stationary distribution over time, informed by the number of iteractions in the past.\n",
    "series = dftrain['transaction']\n",
    "title = 'transaction frequency histogram'\n",
    "xlb = 'number of transactions per pair'\n",
    "ylb = 'frequency'\n",
    "\n",
    "print(series.describe())\n",
    "\n",
    "bins = range(maxlgbin(series))\n",
    "plt.figure(figsize=(9,6))\n",
    "plt.axes().set_aspect(9/6)\n",
    "plt.xticks(bins, [r'$2^{{{}}}$'.format(i) for i in bins])\n",
    "plt.hist(series, bins=bins)\n",
    "plt.gca().set_yscale('log', basey=2)\n",
    "plt.title(title)\n",
    "plt.xlabel(xlb)\n",
    "plt.ylabel(ylb)\n",
    "plt.show()"
   ]
  },
  {
   "cell_type": "code",
   "execution_count": 4,
   "metadata": {
    "collapsed": false
   },
   "outputs": [
    {
     "name": "stdout",
     "output_type": "stream",
     "text": [
      "n_sender 443652\n",
      "n_receiver 439602\n",
      "n_transactions 15821903\n",
      "n_nonmissing 3348026\n",
      "sparsity 0.999982833304\n"
     ]
    }
   ],
   "source": [
    "n_sender = dftrain['sender'].unique().size\n",
    "n_receiver = dftrain['receiver'].unique().size\n",
    "n_transactions = dftrain['transaction'].sum()\n",
    "n_nonmissing = dftrain['transaction'].count()\n",
    "sparsity = 1 - n_nonmissing*1.0/n_sender/n_receiver\n",
    "for i in ['n_sender', 'n_receiver', 'n_transactions', 'n_nonmissing', 'sparsity']: print(i, eval(i))"
   ]
  },
  {
   "cell_type": "code",
   "execution_count": 6,
   "metadata": {
    "collapsed": false,
    "scrolled": true
   },
   "outputs": [
    {
     "name": "stdout",
     "output_type": "stream",
     "text": [
      "count    444075.000000\n",
      "mean          7.539326\n",
      "std         316.680366\n",
      "min           0.000000\n",
      "25%           3.000000\n",
      "50%           4.000000\n",
      "75%           6.000000\n",
      "max      172727.000000\n",
      "dtype: float64\n",
      "count    444075.000000\n",
      "mean          7.539326\n",
      "std         369.349803\n",
      "min           0.000000\n",
      "25%           1.000000\n",
      "50%           2.000000\n",
      "75%           3.000000\n",
      "max      164333.000000\n",
      "dtype: float64\n"
     ]
    },
    {
     "data": {
      "image/png": "[encoded data removed]",
      "text/plain": [
       "<matplotlib.figure.Figure at 0x7fc2b407af10>"
      ]
     },
     "metadata": {},
     "output_type": "display_data"
    }
   ],
   "source": [
    "bincsr = train_csr.sign()\n",
    "bincsc = train_csc.sign()\n",
    "\n",
    "# Direction of edges is sender -> receiver\n",
    "send_distribution = pd.Series(np.squeeze(np.asarray(bincsr.sum(0))))\n",
    "recv_distribution = pd.Series(np.squeeze(np.asarray(bincsc.sum(1))))\n",
    "title = 'outdegree/indegree distribution'\n",
    "xlb = 'directed edge count'\n",
    "ylb = 'frequency'\n",
    "\n",
    "print(send_distribution.describe())\n",
    "print(recv_distribution.describe())\n",
    "\n",
    "# http://stackoverflow.com/questions/7694298/how-to-make-a-log-log-histogram-in-python\n",
    "bins = range(max(maxlgbin(x) for x in (send_distribution, recv_distribution)))\n",
    "plt.figure(figsize=(9,6))\n",
    "plt.axes().set_aspect(9/6)\n",
    "plt.xticks(bins, [r'$2^{{{}}}$'.format(i) for i in bins])\n",
    "plt.hist(send_distribution, bins=bins, label='out', alpha=0.75)\n",
    "plt.hist(recv_distribution, bins=bins, label='in', alpha=0.65)\n",
    "plt.legend()\n",
    "#plt.legend()#bbox_to_anchor=(1.05, 1), loc=2, borderaxespad=0.)\n",
    "plt.gca().set_yscale('log', basey=2)\n",
    "plt.title(title)\n",
    "plt.xlabel(xlb)\n",
    "plt.ylabel(ylb)\n",
    "plt.show()"
   ]
  },
  {
   "cell_type": "code",
   "execution_count": 7,
   "metadata": {
    "collapsed": false
   },
   "outputs": [],
   "source": [
    "# Get the SCCs (memoized)\n",
    "import pickle\n",
    "sccs = None\n",
    "try:\n",
    "    with open('train_sccs.p', 'rb') as infile:\n",
    "        sccs = pickle.load(infile)\n",
    "except FileNotFoundError:\n",
    "    print('SCC file missing, recreating SCCs')\n",
    "    # This takes <1hr on cycles\n",
    "    sccs = list(nx.strongly_connected_components(G))\n",
    "    with open('train_sccs.p', 'wb') as outfile:\n",
    "        pickle.dump(sccs, outfile)"
   ]
  },
  {
   "cell_type": "code",
   "execution_count": 8,
   "metadata": {
    "collapsed": false
   },
   "outputs": [
    {
     "name": "stdout",
     "output_type": "stream",
     "text": [
      "# sccs 9254\n",
      "count      9254.000000\n",
      "mean         47.987357\n",
      "std        4508.165332\n",
      "min           1.000000\n",
      "25%           1.000000\n",
      "50%           1.000000\n",
      "75%           1.000000\n",
      "max      433676.000000\n",
      "dtype: float64\n",
      "quantile 0.9 1.0\n",
      "quantile 0.99 2.0\n",
      "quantile 0.999 9.747\n",
      "quantile 0.9999 32866.5748997\n",
      "quantile 0.99999 393595.05749\n",
      "quantile 0.999999 429667.905749\n"
     ]
    }
   ],
   "source": [
    "print('# sccs', len(sccs))\n",
    "series = pd.Series(sorted([len(scc) for scc in sccs]))\n",
    "title = 'SCC size distribution'\n",
    "xlb = 'scc sizes'\n",
    "ylb = 'frequency'\n",
    "print(series.describe())\n",
    "for q in [0.9, 0.99, 0.999, 0.9999, 0.99999, 0.999999]:\n",
    "    print('quantile', q, series.quantile(q))"
   ]
  },
  {
   "cell_type": "code",
   "execution_count": 27,
   "metadata": {
    "collapsed": false
   },
   "outputs": [],
   "source": [
    "from sklearn.metrics import roc_curve, auc\n",
    "\n",
    "def sender(row): return bincsr.getrow(int(row['sender']))\n",
    "def receiver(row): return bincsc.getcol(int(row['receiver']))\n",
    "def jaccard(row):\n",
    "    a = sender(row)\n",
    "    b = receiver(row)\n",
    "    return a.dot(b) / (a + b.transpose()).sign().sum()"
   ]
  },
  {
   "cell_type": "code",
   "execution_count": 28,
   "metadata": {
    "collapsed": false
   },
   "outputs": [
    {
     "name": "stderr",
     "output_type": "stream",
     "text": [
      "\n",
      "KeyboardInterrupt\n"
     ]
    }
   ],
   "source": [
    "pred = [jaccard(row) for index,row in dftest.iterrows()]\n",
    "label = dftest['transaction']\n",
    "fpr, tpr, thresholds = roc_curve(label, pred)\n",
    "roc_auc = auc(fpr, tpr)\n",
    "print('Area under the ROC curve jaccard', roc_auc)\n",
    "matplotlib.rcParams['figure.figsize'] = (10, 10)\n",
    "plt.plot(fpr, tpr, color='magenta', label='ROC curve (area = %0.2f)' % roc_auc)\n",
    "plt.plot([0, 1], [0, 1], 'k--')\n",
    "plt.xlim([0.0, 1.0])\n",
    "plt.ylim([0.0, 1.0])\n",
    "plt.xlabel('False Positive Rate')\n",
    "plt.ylabel('True Positive Rate')\n",
    "plt.title('jaccard/dice')\n",
    "plt.legend(loc=\"lower right\")\n",
    "plt.show()"
   ]
  },
  {
   "cell_type": "code",
   "execution_count": 16,
   "metadata": {
    "collapsed": false
   },
   "outputs": [
    {
     "name": "stdout",
     "output_type": "stream",
     "text": [
      "openmp True nthreads 38\n",
      "regular 1K rows time 2.978071689605713\n",
      "binary 1K rows time 2.773721933364868\n",
      "log1p 1K rows time 2.7553088665008545\n"
     ]
    }
   ],
   "source": [
    "import os\n",
    "os.environ['OMP_NUM_THREADS'] = str(max(nproc // 4, 1))\n",
    "old_flags = os.environ.get('THEANO_FLAGS', '')\n",
    "if 'openmp' not in old_flags:\n",
    "    os.environ['THEANO_FLAGS'] = old_flags + ',openmp=true' + ',openmp_elemwise_minsize=1000'\n",
    "\n",
    "\n",
    "import theano, theano.sparse\n",
    "print('openmp', theano.config.openmp, 'nthreads', nproc)\n",
    "\n",
    "import time\n",
    "from sklearn.preprocessing import normalize\n",
    "import random\n",
    "\n",
    "# (Takes and Kosters 2013) http://www.mdpi.com/1999-4893/6/1/100/htm\n",
    "# Sample a distribution (only need about 0.1) for these metrics for each vertex\n",
    "nrows = 1000\n",
    "sample = random.sample(range(dim), nrows)\n",
    "\n",
    "def timeddot(x, desc):\n",
    "    t = time.time()\n",
    "    y = f(x)\n",
    "    print(desc, '{}K rows time'.format(nrows // 1000), time.time() - t)\n",
    "    return y\n",
    "\n",
    "x = theano.sparse.csr_matrix(name='x', dtype='float64')\n",
    "y = theano.sparse.dot(x[sample], x.T)\n",
    "f = theano.function([x], y)\n",
    "[dotprod, binprod, logprod] = [timeddot(*x) for x in [\n",
    "    (train_csr, 'regular'),\n",
    "    (train_csr.sign(), 'binary'),\n",
    "    (train_csr.log1p(), 'log1p')]]"
   ]
  },
  {
   "cell_type": "code",
   "execution_count": 21,
   "metadata": {
    "collapsed": false
   },
   "outputs": [
    {
     "name": "stdout",
     "output_type": "stream",
     "text": [
      "dot zeros 0.792183604121\n",
      "dot (mean - median) / std 0.0288356934379\n",
      "dot (99th - mean) / std 0.178112019138\n",
      "bin zeros 0.792183604121\n",
      "bin (mean - median) / std 0.412398829038\n",
      "bin (99th - mean) / std 1.47357872844\n",
      "log zeros 0.792183604121\n",
      "log (mean - median) / std 0.377840016456\n",
      "log (99th - mean) / std 2.61382453177\n"
     ]
    }
   ],
   "source": [
    "# min data contribution\n",
    "for x in ['dot', 'bin', 'log']:\n",
    "    mat = eval(x + 'prod')\n",
    "    data = mat.reshape(mat.size)\n",
    "    print(x, 'zeros', (mat == 0).sum().sum() / mat.size)\n",
    "    print(x, '(mean - median) / std', (data.mean() - np.median(data)) / data.std())\n",
    "    print(x, '(99th - mean) / std', (np.percentile(data, 99) - data.mean()) / data.std())"
   ]
  },
  {
   "cell_type": "code",
   "execution_count": 32,
   "metadata": {
    "collapsed": false
   },
   "outputs": [],
   "source": [
    "# Can probably run simrank on full dot product."
   ]
  },
  {
   "cell_type": "code",
   "execution_count": null,
   "metadata": {
    "collapsed": true
   },
   "outputs": [],
   "source": [
    "#1. linkpred -> figure out what this actually does\n",
    "# Overall similarity-based algorithm: for undirected (Nowell Kleinberg 2007) - only works for undirected\n",
    "# AA approach.\n",
    "#2. graphsim -> can't use similarity(a, b) to predict interaction, but can use similarities to\n",
    "# predict interaction x -> b) given interaction (x -> a) exists + outward. simrank (https://en.wikipedia.org/wiki/SimRank)\n",
    "# (https://pypi.python.org/pypi/graphsim) need to find a paper for simrank to cite\n",
    "# 3. Clustering -> do a coarser clustering by deleting \"tenuous\" edges, smarter prediction on the cluster.\n",
    "# (Liben-Nowell and Kleninberg 2007)\n",
    "# 4. low-rank approximation (paper above works, any other papers for)\n",
    "# setup CV to evaluate all of these.\n",
    "# look into NetworkX prediction"
   ]
  },
  {
   "cell_type": "code",
   "execution_count": 24,
   "metadata": {
    "collapsed": false
   },
   "outputs": [
    {
     "data": {
      "text/plain": [
       "0.0"
      ]
     },
     "execution_count": 24,
     "metadata": {},
     "output_type": "execute_result"
    }
   ],
   "source": [
    "# Create a simple CV scheme (relying on our time-stationarity assumption)\n",
    "# for evaluation.\n",
    "\n",
    "# The predictor to cross-validate, f, should accept a CSR matrix with historical interaction\n",
    "# counts and output a \n",
    "# TODO: can't do CV easily - don't have temporal info\n",
    "sum(train_csr[row['sender'], row['receiver']] for index, row in dftest.iterrows())"
   ]
  },
  {
   "cell_type": "code",
   "execution_count": 10,
   "metadata": {
    "collapsed": false
   },
   "outputs": [
    {
     "name": "stdout",
     "output_type": "stream",
     "text": [
      "Area under the ROC curve 0.641620888889\n"
     ]
    },
    {
     "data": {
      "image/png": "[encoded data removed]",
      "text/plain": [
       "<matplotlib.figure.Figure at 0x7f2f23291c10>"
      ]
     },
     "metadata": {},
     "output_type": "display_data"
    }
   ],
   "source": [
    "from sklearn.decomposition import TruncatedSVD\n",
    "from scipy.sparse.linalg import svds\n",
    "from sklearn.metrics import roc_curve, auc\n",
    "train_csr = csr_matrix((dftrain['transaction'],(dftrain['sender'],dftrain['receiver'])),\n",
    "                       shape=(dim,dim),\n",
    "                       dtype=float)\n",
    "u, s, vt = svds(train_csr, k=10, tol=1e-10, which = 'LM')\n",
    "pred = [np.sum(u[row['sender'],:] * s * vt[:,row['receiver']]) \n",
    "        for index,row in dftest.iterrows()]\n",
    "label = dftest['transaction']\n",
    "fpr, tpr, thresholds = roc_curve(label, pred)\n",
    "roc_auc = auc(fpr, tpr)\n",
    "print('Area under the ROC curve', roc_auc)\n",
    "matplotlib.rcParams['figure.figsize'] = (10, 10)\n",
    "plt.plot(fpr, tpr, color='magenta', label='ROC curve (area = %0.2f)' % roc_auc)\n",
    "plt.plot([0, 1], [0, 1], 'k--')\n",
    "plt.xlim([0.0, 1.0])\n",
    "plt.ylim([0.0, 1.05])\n",
    "plt.xlabel('False Positive Rate')\n",
    "plt.ylabel('True Positive Rate')\n",
    "plt.title('Receiver operating characteristic example')\n",
    "plt.legend(loc=\"lower right\")\n",
    "plt.show()"
   ]
  }
 ],
 "metadata": {
  "kernelspec": {
   "display_name": "Python 3",
   "language": "python",
   "name": "python3"
  },
  "language_info": {
   "codemirror_mode": {
    "name": "ipython",
    "version": 3
   },
   "file_extension": ".py",
   "mimetype": "text/x-python",
   "name": "python",
   "nbconvert_exporter": "python",
   "pygments_lexer": "ipython3",
   "version": "3.3.2"
  }
 },
 "nbformat": 4,
 "nbformat_minor": 0
}
