{
 "cells": [
  {
   "cell_type": "code",
   "execution_count": 1,
   "metadata": {
    "collapsed": false
   },
   "outputs": [],
   "source": [
    "# Imports\n",
    "\n",
    "%matplotlib inline\n",
    "import matplotlib\n",
    "import matplotlib.pyplot as plt\n",
    "import numpy as np\n",
    "import pickle\n",
    "import pandas as pd\n",
    "import os, os.path\n",
    "from itertools import *\n",
    "import math\n",
    "import random\n",
    "import scipy.stats\n",
    "import sys\n",
    "from joblib import Parallel, delayed\n",
    "import multiprocessing\n",
    "nproc = max(1, multiprocessing.cpu_count())\n",
    "from scipy.sparse import csr_matrix\n",
    "import scipy.sparse\n",
    "from sklearn import cross_validation, base\n",
    "from sklearn.metrics import roc_curve, auc\n",
    "from sklearn.grid_search import ParameterGrid, GridSearchCV\n",
    "from scipy.sparse.linalg import svds\n",
    "import networkx as nx\n",
    "import scipy\n",
    "import time\n",
    "    \n",
    "# Warnings\n",
    "\n",
    "import warnings\n",
    "warnings.filterwarnings('ignore')\n",
    "\n",
    "# Uncompress data\n",
    "\n",
    "if not os.path.exists('data'):\n",
    "    os.mkdir('data')\n",
    "\n",
    "def have_data():\n",
    "    return {'testTriplets.txt', 'txTripletsCounts.txt'}.issubset(set(os.listdir('data')))\n",
    "if not have_data():\n",
    "    ! cp Assignment3_Bitcoin/data.zip .\n",
    "\n",
    "# Uncompress data\n",
    "\n",
    "if not os.path.exists('data'):\n",
    "    os.mkdir('data')\n",
    "\n",
    "def have_data():\n",
    "    return {'testTriplets.txt', 'txTripletsCounts.txt'}.issubset(set(os.listdir('data')))\n",
    "if not have_data():\n",
    "    ! cp Assignment3_Bitcoin/data.zip .\n",
    "    ! unzip data.zip\n",
    "    ! rm data.zip\n",
    "    if not have_data():\n",
    "        raise Exception('Error unpacking data')\n",
    "    ! unzip data.zip\n",
    "    ! rm data.zip\n",
    "    if not have_data():\n",
    "        raise Exception('Error unpacking data')\n",
    "        \n",
    "# Extract data in df form and as a sparse matrix\n",
    "\n",
    "dftrain = pd.read_csv('data/txTripletsCounts.txt',\n",
    "                      header=None,\n",
    "                      index_col=None,\n",
    "                      sep=' ',\n",
    "                      names=['sender','receiver','transaction'])\n",
    "\n",
    "dftest = pd.read_csv('data/testTriplets.txt',\n",
    "                     header=None,\n",
    "                     index_col=None,\n",
    "                     sep=' ',\n",
    "                     names=['sender','receiver','transaction'])\n",
    "\n",
    "dim = max(df[c].max() for df in (dftrain, dftest) for c in ['sender', 'receiver'])\n",
    "dim += 1\n",
    "\n",
    "# both the matrices here have m[i, j] return the number of transactions from i to j\n",
    "# in training.\n",
    "train_csr = csr_matrix((dftrain['transaction'],(dftrain['sender'],dftrain['receiver'])),\n",
    "                       shape=(dim,dim),\n",
    "                       dtype=float)\n",
    "\n",
    "train_csc = train_csr.tocsc()\n",
    "\n",
    "def maxlgbin(series): return math.ceil(np.log2(series.max()))\n",
    "\n",
    "bincsr = train_csr.sign()\n",
    "bincsc = train_csc.sign()\n",
    "logcsr = train_csr.log1p()\n",
    "logcsc = train_csc.log1p()"
   ]
  },
  {
   "cell_type": "code",
   "execution_count": 4,
   "metadata": {
    "collapsed": true
   },
   "outputs": [],
   "source": [
    "# As a NetworkX graph\n",
    "G = nx.from_scipy_sparse_matrix(train_csr, parallel_edges=False, create_using=nx.DiGraph())"
   ]
  },
  {
   "cell_type": "markdown",
   "metadata": {},
   "source": [
    "Exploratory data analysis"
   ]
  },
  {
   "cell_type": "code",
   "execution_count": 3,
   "metadata": {
    "collapsed": false
   },
   "outputs": [
    {
     "name": "stdout",
     "output_type": "stream",
     "text": [
      "count    3.348026e+06\n",
      "mean     4.725741e+00\n",
      "std      1.284948e+02\n",
      "min      1.000000e+00\n",
      "25%      1.000000e+00\n",
      "50%      1.000000e+00\n",
      "75%      2.000000e+00\n",
      "max      4.163900e+04\n",
      "Name: transaction, dtype: float64\n"
     ]
    },
    {
     "data": {
      "image/png": "[encoded data removed]",
      "text/plain": [
       "<matplotlib.figure.Figure at 0x7fc2b41683d0>"
      ]
     },
     "metadata": {},
     "output_type": "display_data"
    }
   ],
   "source": [
    "# Time data is not present. Thus, we'll be inferring probability of interaction\n",
    "# as a stationary distribution over time, informed by the number of iteractions in the past.\n",
    "series = dftrain['transaction']\n",
    "title = 'transaction frequency histogram'\n",
    "xlb = 'number of transactions per pair'\n",
    "ylb = 'frequency'\n",
    "\n",
    "print(series.describe())\n",
    "\n",
    "bins = range(maxlgbin(series))\n",
    "plt.figure(figsize=(9,6))\n",
    "plt.axes().set_aspect(9/6)\n",
    "plt.xticks(bins, [r'$2^{{{}}}$'.format(i) for i in bins])\n",
    "plt.hist(series, bins=bins)\n",
    "plt.gca().set_yscale('log', basey=2)\n",
    "plt.title(title)\n",
    "plt.xlabel(xlb)\n",
    "plt.ylabel(ylb)\n",
    "plt.show()"
   ]
  },
  {
   "cell_type": "code",
   "execution_count": 51,
   "metadata": {
    "collapsed": false
   },
   "outputs": [
    {
     "name": "stdout",
     "output_type": "stream",
     "text": [
      "n_sender 443652\n",
      "n_receiver 439602\n",
      "n_transactions 15821903\n",
      "n_nonmissing 3348026\n",
      "sparsity 0.999982833304\n",
      "num edges 3348026\n"
     ]
    }
   ],
   "source": [
    "n_sender = dftrain['sender'].unique().size\n",
    "n_receiver = dftrain['receiver'].unique().size\n",
    "n_transactions = dftrain['transaction'].sum()\n",
    "n_nonmissing = dftrain['transaction'].count()\n",
    "sparsity = 1 - n_nonmissing*1.0/n_sender/n_receiver\n",
    "for i in ['n_sender', 'n_receiver', 'n_transactions', 'n_nonmissing', 'sparsity']: print(i, eval(i))\n",
    "print('num edges', len(dftrain))"
   ]
  },
  {
   "cell_type": "code",
   "execution_count": 6,
   "metadata": {
    "collapsed": false,
    "scrolled": true
   },
   "outputs": [
    {
     "name": "stdout",
     "output_type": "stream",
     "text": [
      "count    444075.000000\n",
      "mean          7.539326\n",
      "std         316.680366\n",
      "min           0.000000\n",
      "25%           3.000000\n",
      "50%           4.000000\n",
      "75%           6.000000\n",
      "max      172727.000000\n",
      "dtype: float64\n",
      "count    444075.000000\n",
      "mean          7.539326\n",
      "std         369.349803\n",
      "min           0.000000\n",
      "25%           1.000000\n",
      "50%           2.000000\n",
      "75%           3.000000\n",
      "max      164333.000000\n",
      "dtype: float64\n"
     ]
    },
    {
     "data": {
      "image/png": "[encoded data removed]",
      "text/plain": [
       "<matplotlib.figure.Figure at 0x7fc2b407af10>"
      ]
     },
     "metadata": {},
     "output_type": "display_data"
    }
   ],
   "source": [
    "# Direction of edges is sender -> receiver\n",
    "send_distribution = pd.Series(np.squeeze(np.asarray(bincsr.sum(0))))\n",
    "recv_distribution = pd.Series(np.squeeze(np.asarray(bincsc.sum(1))))\n",
    "title = 'outdegree/indegree distribution'\n",
    "xlb = 'directed edge count'\n",
    "ylb = 'frequency'\n",
    "\n",
    "print(send_distribution.describe())\n",
    "print(recv_distribution.describe())\n",
    "\n",
    "# http://stackoverflow.com/questions/7694298/how-to-make-a-log-log-histogram-in-python\n",
    "bins = range(max(maxlgbin(x) for x in (send_distribution, recv_distribution)))\n",
    "plt.figure(figsize=(9,6))\n",
    "plt.axes().set_aspect(9/6)\n",
    "plt.xticks(bins, [r'$2^{{{}}}$'.format(i) for i in bins])\n",
    "plt.hist(send_distribution, bins=bins, label='out', alpha=0.75)\n",
    "plt.hist(recv_distribution, bins=bins, label='in', alpha=0.65)\n",
    "plt.legend()\n",
    "#plt.legend()#bbox_to_anchor=(1.05, 1), loc=2, borderaxespad=0.)\n",
    "plt.gca().set_yscale('log', basey=2)\n",
    "plt.title(title)\n",
    "plt.xlabel(xlb)\n",
    "plt.ylabel(ylb)\n",
    "plt.show()"
   ]
  },
  {
   "cell_type": "code",
   "execution_count": 7,
   "metadata": {
    "collapsed": false
   },
   "outputs": [],
   "source": [
    "# Get the SCCs (memoized)\n",
    "sccs = None\n",
    "try:\n",
    "    with open('train_sccs.p', 'rb') as infile:\n",
    "        sccs = pickle.load(infile)\n",
    "except FileNotFoundError:\n",
    "    print('SCC file missing, recreating SCCs')\n",
    "    # This takes <1hr on cycles\n",
    "    sccs = list(nx.strongly_connected_components(G))\n",
    "    with open('train_sccs.p', 'wb') as outfile:\n",
    "        pickle.dump(sccs, outfile)"
   ]
  },
  {
   "cell_type": "code",
   "execution_count": 8,
   "metadata": {
    "collapsed": false
   },
   "outputs": [
    {
     "name": "stdout",
     "output_type": "stream",
     "text": [
      "# sccs 9254\n",
      "count      9254.000000\n",
      "mean         47.987357\n",
      "std        4508.165332\n",
      "min           1.000000\n",
      "25%           1.000000\n",
      "50%           1.000000\n",
      "75%           1.000000\n",
      "max      433676.000000\n",
      "dtype: float64\n",
      "quantile 0.9 1.0\n",
      "quantile 0.99 2.0\n",
      "quantile 0.999 9.747\n",
      "quantile 0.9999 32866.5748997\n",
      "quantile 0.99999 393595.05749\n",
      "quantile 0.999999 429667.905749\n"
     ]
    }
   ],
   "source": [
    "print('# sccs', len(sccs))\n",
    "series = pd.Series(sorted([len(scc) for scc in sccs]))\n",
    "title = 'SCC size distribution'\n",
    "xlb = 'scc sizes'\n",
    "ylb = 'frequency'\n",
    "print(series.describe())\n",
    "for q in [0.9, 0.99, 0.999, 0.9999, 0.99999, 0.999999]:\n",
    "    print('quantile', q, series.quantile(q))"
   ]
  },
  {
   "cell_type": "code",
   "execution_count": 16,
   "metadata": {
    "collapsed": false
   },
   "outputs": [
    {
     "name": "stdout",
     "output_type": "stream",
     "text": [
      "openmp True nthreads 38\n",
      "regular 1K rows time 2.978071689605713\n",
      "binary 1K rows time 2.773721933364868\n",
      "log1p 1K rows time 2.7553088665008545\n"
     ]
    }
   ],
   "source": [
    "import os\n",
    "os.environ['OMP_NUM_THREADS'] = str(max(nproc // 4, 1))\n",
    "old_flags = os.environ.get('THEANO_FLAGS', '')\n",
    "if 'openmp' not in old_flags:\n",
    "    os.environ['THEANO_FLAGS'] = old_flags + ',openmp=true' + ',openmp_elemwise_minsize=1000'\n",
    "\n",
    "import theano, theano.sparse\n",
    "print('openmp', theano.config.openmp, 'nthreads', nproc)\n",
    "\n",
    "from sklearn.preprocessing import normalize\n",
    "import random\n",
    "\n",
    "# (Takes and Kosters 2013) http://www.mdpi.com/1999-4893/6/1/100/htm\n",
    "# Sample a distribution (only need about 0.1) for these metrics for each vertex\n",
    "nrows = 1000\n",
    "sample = random.sample(range(dim), nrows)\n",
    "\n",
    "def timeddot(x, desc):\n",
    "    t = time.time()\n",
    "    y = f(x)\n",
    "    print(desc, '{}K rows time'.format(nrows // 1000), time.time() - t)\n",
    "    return y\n",
    "\n",
    "x = theano.sparse.csr_matrix(name='x', dtype='float64')\n",
    "y = theano.sparse.dot(x[sample], x.T)\n",
    "f = theano.function([x], y)\n",
    "[dotprod, binprod, logprod] = [timeddot(*x) for x in [\n",
    "    (train_csr, 'regular'),\n",
    "    (train_csr.sign(), 'binary'),\n",
    "    (train_csr.log1p(), 'log1p')]]"
   ]
  },
  {
   "cell_type": "code",
   "execution_count": 21,
   "metadata": {
    "collapsed": false
   },
   "outputs": [
    {
     "name": "stdout",
     "output_type": "stream",
     "text": [
      "dot zeros 0.792183604121\n",
      "dot (mean - median) / std 0.0288356934379\n",
      "dot (99th - mean) / std 0.178112019138\n",
      "bin zeros 0.792183604121\n",
      "bin (mean - median) / std 0.412398829038\n",
      "bin (99th - mean) / std 1.47357872844\n",
      "log zeros 0.792183604121\n",
      "log (mean - median) / std 0.377840016456\n",
      "log (99th - mean) / std 2.61382453177\n"
     ]
    }
   ],
   "source": [
    "# min data contribution\n",
    "for x in ['dot', 'bin', 'log']:\n",
    "    mat = eval(x + 'prod')\n",
    "    data = mat.reshape(mat.size)\n",
    "    print(x, 'zeros', (mat == 0).sum().sum() / mat.size)\n",
    "    print(x, '(mean - median) / std', (data.mean() - np.median(data)) / data.std())\n",
    "    print(x, '(99th - mean) / std', (np.percentile(data, 99) - data.mean()) / data.std())"
   ]
  },
  {
   "cell_type": "code",
   "execution_count": 66,
   "metadata": {
    "collapsed": false
   },
   "outputs": [],
   "source": [
    "# Can probably run simrank on full dot product, but no time for custom low-value-removal."
   ]
  },
  {
   "cell_type": "code",
   "execution_count": 24,
   "metadata": {
    "collapsed": false
   },
   "outputs": [
    {
     "data": {
      "text/plain": [
       "0.0"
      ]
     },
     "execution_count": 24,
     "metadata": {},
     "output_type": "execute_result"
    }
   ],
   "source": [
    "# Just check we never get a repeat sender\n",
    "sum(train_csr[row['sender'], row['receiver']] for index, row in dftest.iterrows())"
   ]
  },
  {
   "cell_type": "code",
   "execution_count": 2,
   "metadata": {
    "collapsed": true
   },
   "outputs": [],
   "source": [
    "# Create a simple CV scheme (relying on our time-stationarity assumption)\n",
    "# for evaluation.\n",
    "\n",
    "Xtrain = dftrain[['sender', 'receiver']].values.astype('int')\n",
    "Ytrain = dftrain['transaction'].values.astype('bool')\n",
    "Xtest = dftest[['sender', 'receiver']].values.astype('int')\n",
    "Ytest = dftest['transaction'].values.astype('bool')\n",
    "iX = range(len(Xtrain))\n",
    "n_ones = Ytest.sum()\n",
    "n_zeros = len(Ytest) - n_ones\n",
    "\n",
    "n_folds = 10\n",
    "cv = list(islice(cross_validation.KFold(\n",
    "    len(Ytrain), n_folds=(len(Xtrain) // n_ones), shuffle=True, random_state=0), 0, n_folds))"
   ]
  },
  {
   "cell_type": "code",
   "execution_count": 3,
   "metadata": {
    "collapsed": false
   },
   "outputs": [],
   "source": [
    "def named_matrix(A):\n",
    "    if A == 'counts': return train_csr\n",
    "    elif A == 'binary': return bincsr\n",
    "    elif A == 'log1p': return logcsr\n",
    "    return None\n",
    "\n",
    "def masked_matrix(A, iX):\n",
    "    M = named_matrix(A)\n",
    "    mask = np.ones(len(Xtrain), dtype='bool')\n",
    "    mask[iX] = 0\n",
    "    X = Xtrain[mask]\n",
    "    vals = np.ones(len(X))\n",
    "    X = X.transpose()\n",
    "    disable = csr_matrix((vals, (X[0], X[1])), shape=M.shape)    \n",
    "    return M - M.multiply(disable)\n",
    "\n",
    "def AUC(exact, pred):\n",
    "    fpr, tpr, thresholds = roc_curve(exact, pred)\n",
    "    return auc(fpr, tpr)\n",
    "\n",
    "def sample_one():\n",
    "    while True:\n",
    "        i, j = (random.randint(0, dim - 1) for i in range(2))\n",
    "        if i == j: continue\n",
    "        if not bincsr[i, j]: return [i, j]\n",
    "\n",
    "class CachedTrainingMatrixEstimator(base.BaseEstimator):\n",
    "    def __init__(self):\n",
    "        super(CachedTrainingMatrixEstimator, self).__init__()\n",
    "    \n",
    "    def score(self, iX, Y):\n",
    "        assert abs(len(Y) - n_ones) <= 1\n",
    "        assert np.all(Y > 0)\n",
    "        assert len(iX) == len(Y)\n",
    "        yes_train = Xtrain[iX]\n",
    "        no_train = np.array([sample_one() for i in range(n_zeros)])\n",
    "        pred_yes = self.predict(yes_train)\n",
    "        pred_no = self.predict(no_train)\n",
    "        exact_yes = np.ones(len(pred_yes), dtype='int')\n",
    "        exact_no = np.zeros(len(pred_no), dtype='int')\n",
    "        exact = np.concatenate((exact_yes, exact_no))\n",
    "        pred = np.concatenate((pred_yes, pred_no))\n",
    "        return AUC(exact, pred)\n",
    "\n",
    "def cvAUC(estimator, grid, name, verbosity=0):\n",
    "    print('Running grid search for {}'.format(name))\n",
    "    gse = GridSearchCV(estimator, grid, n_jobs=nproc, verbose=verbosity, cv=cv)\n",
    "    t = time.time()\n",
    "    gse.fit(iX, Ytrain)\n",
    "    t = int(time.time() - t)\n",
    "    print('\\tran cv grid with best AUC {:.4f} in {} s '.format(gse.best_score_, t))\n",
    "    print('\\tmodel:', gse.best_params_)\n",
    "    return gse.best_estimator_\n",
    "\n",
    "def eval_fold(estimator_class, cvfold, param):\n",
    "    est = estimator_class(**param)\n",
    "    train_ix, test_ix = cvfold\n",
    "    est.fit(iX[train_ix], Ytrain[train_ix])\n",
    "    return str(sorted(param.items())), (est.score(iX[test_ix], Ytrain[test_ix]), len(test_ix))\n",
    "\n",
    "def cvAUC_broken(estimator_class, grid, name, verbosity=0):\n",
    "    print('Running grid search for {}'.format(name))\n",
    "    cv_params = product(cv, ParameterGrid(grid))\n",
    "    gse = GridSearchCV(estimator, grid, n_jobs=nproc, verbose=verbosity, cv=cv)\n",
    "    t = time.time()\n",
    "    gse.fit(iX, Ytrain)\n",
    "    t = int(time.time() - t)\n",
    "    print('\\tran cv grid with best AUC {:.4f} in {} s '.format(gse.best_score_, t))\n",
    "    print('\\tmodel:', gse.best_params_)\n",
    "    return gse.best_estimator_"
   ]
  },
  {
   "cell_type": "code",
   "execution_count": 11,
   "metadata": {
    "collapsed": false
   },
   "outputs": [
    {
     "name": "stdout",
     "output_type": "stream",
     "text": [
      "Running grid search for SVD\n",
      "Fitting 10 folds for each of 1 candidates, totalling 10 fits\n"
     ]
    },
    {
     "name": "stderr",
     "output_type": "stream",
     "text": [
      "[Parallel(n_jobs=48)]: Done  10 out of  10 | elapsed:   14.5s finished\n"
     ]
    },
    {
     "name": "stdout",
     "output_type": "stream",
     "text": [
      "\tran cv grid with best AUC 0.8539 in 22 s \n",
      "\tmodel: {'k': 4, 'A': 'binary'}\n"
     ]
    }
   ],
   "source": [
    "class SVDFactorization(CachedTrainingMatrixEstimator):\n",
    "    def __init__(self, A, k):\n",
    "        super(SVDFactorization, self).__init__()\n",
    "        self.A = A\n",
    "        self.k = k\n",
    "        \n",
    "    def fit(self, iX, y):\n",
    "        X = masked_matrix(self.A, iX)\n",
    "        self.u, self.s, self.vt = svds(X, k=self.k, tol=1e-10, which='LM')\n",
    "        \n",
    "    def predict(self, X):\n",
    "        senders, receivers = X[:, 0], X[:, 1]\n",
    "        sv = self.s[:, np.newaxis] * self.vt[:, receivers]\n",
    "        u = self.u[senders, :]\n",
    "        return (u * sv.transpose()).sum(axis=1)\n",
    "        \n",
    "grid = {\n",
    "    'A': ['binary'], # ['counts', 'binary', 'log1p'],\n",
    "    'k': [4]} #list(range(1, 21))}\n",
    "\n",
    "# Full grid commented out for speed, result same as below.\n",
    "\n",
    "svd = cvAUC(SVDFactorization(None, None), grid, 'SVD', verbosity=1)"
   ]
  },
  {
   "cell_type": "code",
   "execution_count": 64,
   "metadata": {
    "collapsed": false
   },
   "outputs": [
    {
     "name": "stdout",
     "output_type": "stream",
     "text": [
      "Running grid search for normalized SVD\n",
      "Fitting 10 folds for each of 1 candidates, totalling 10 fits\n"
     ]
    },
    {
     "name": "stderr",
     "output_type": "stream",
     "text": [
      "[Parallel(n_jobs=48)]: Done  10 out of  10 | elapsed:   21.2s finished\n"
     ]
    },
    {
     "name": "stdout",
     "output_type": "stream",
     "text": [
      "\tran cv grid with best AUC 0.7967 in 27 s \n",
      "\tmodel: {'k': 4, 'A': 'log1p'}\n"
     ]
    }
   ],
   "source": [
    "def logistic(x): return 1 / (1 + math.exp(-x))\n",
    "\n",
    "vlogistic = np.vectorize(logistic)\n",
    "\n",
    "class NormalizedSVD(SVDFactorization):\n",
    "    def __init__(self, A, k):\n",
    "        super(NormalizedSVD, self).__init__(A, k)\n",
    "        \n",
    "    def fit(self, iX, y):\n",
    "        super(NormalizedSVD, self).fit(iX, y)\n",
    "        \n",
    "    def predict(self, X):\n",
    "        return vlogistic(super(NormalizedSVD, self).predict(X))\n",
    "        \n",
    "grid = {\n",
    "    'A': ['log1p'], # ['counts', 'binary', 'log1p'],\n",
    "    'k': [4]} #list(range(1, 21))}\n",
    "\n",
    "# Full grid commented out for speed, result same as below.\n",
    "\n",
    "nsvd = cvAUC(NormalizedSVD(None, None), grid, 'normalized SVD', verbosity=1)"
   ]
  },
  {
   "cell_type": "code",
   "execution_count": 16,
   "metadata": {
    "collapsed": false
   },
   "outputs": [
    {
     "name": "stdout",
     "output_type": "stream",
     "text": [
      "Running grid search for NMF\n",
      "Fitting 10 folds for each of 1 candidates, totalling 10 fits\n",
      "[CV] init=nndsvd, A=counts, alpha=0, l1_ratio=0, n_components=4 ......\n",
      "[CV] init=nndsvd, A=counts, alpha=0, l1_ratio=0, n_components=4 ......\n",
      "[CV] init=nndsvd, A=counts, alpha=0, l1_ratio=0, n_components=4 ......\n",
      "[CV] init=nndsvd, A=counts, alpha=0, l1_ratio=0, n_components=4 ......\n",
      "[CV] init=nndsvd, A=counts, alpha=0, l1_ratio=0, n_components=4 ......\n",
      "[CV] init=nndsvd, A=counts, alpha=0, l1_ratio=0, n_components=4 ......\n",
      "[CV] init=nndsvd, A=counts, alpha=0, l1_ratio=0, n_components=4 ......\n",
      "[CV] init=nndsvd, A=counts, alpha=0, l1_ratio=0, n_components=4 ......\n",
      "[CV] init=nndsvd, A=counts, alpha=0, l1_ratio=0, n_components=4 ......\n",
      "[CV] init=nndsvd, A=counts, alpha=0, l1_ratio=0, n_components=4 ......\n"
     ]
    },
    {
     "ename": "SyntaxError",
     "evalue": "invalid or missing encoding declaration for '/n/fs/cyc424/py/lib/python3.3/site-packages/numpy/random/mtrand.cpython-33m.so' (<string>)",
     "output_type": "error",
     "traceback": [
      "\u001b[1;36m  File \u001b[1;32m\"<string>\"\u001b[1;36m, line \u001b[1;32munknown\u001b[0m\n\u001b[1;31mSyntaxError\u001b[0m\u001b[1;31m:\u001b[0m invalid or missing encoding declaration for '/n/fs/cyc424/py/lib/python3.3/site-packages/numpy/random/mtrand.cpython-33m.so'\n"
     ]
    }
   ],
   "source": [
    "def make_NMF(M, n_components, alpha, l1_ratio, init):\n",
    "    from sklearn.decomposition import NMF\n",
    "    nmf = NMF(n_components=n_components, init=init, alpha=alpha, l1_ratio=l1_ratio)\n",
    "    W = nmf.fit_transform(M)\n",
    "    return W, nmf.components_\n",
    "\n",
    "class NMFPredictor(CachedTrainingMatrixEstimator):\n",
    "    def __init__(self, A, n_components, alpha, l1_ratio, init):\n",
    "        super(NMFPredictor, self).__init__()\n",
    "        self.A = A\n",
    "        self.args = (n_components, alpha, l1_ratio, init)\n",
    "        \n",
    "    def fit(self, iX, y):\n",
    "        X = masked_matrix(self.A, iX)\n",
    "        self.W, self.H = make_NMF(X, *self.args)\n",
    "        \n",
    "    def predict(self, X):\n",
    "        senders, receivers = X[:, 0], X[:, 1]\n",
    "        return (self.W[senders, :] * self.H.transpose()[receivers, :]).sum(axis=1)\n",
    "           \n",
    "grid = {\n",
    "    'A': ['counts'], #, 'binary', 'log1p'],\n",
    "    'n_components': [4],\n",
    "    'alpha': [0], #[0.001, 0.01, 0.1, 1, 10, 100, 1000],\n",
    "    'l1_ratio': [0], #np.arange(0, 1.01, .1),\n",
    "    'init': ['nndsvd']} #['random', 'nndsvd','nndsvda']}\n",
    "\n",
    "# Full grid commented out for speed, result same as belo\n",
    "\n",
    "#Running grid search for NMF\n",
    "#        created 693 size grid in 3382 s\n",
    "#        ran cv with AUC 0.7496 in 1804 s \n",
    "#        model: {'init': 'random', 'n_components': 4, 'A': 'binary', 'alpha': 10, 'l1_ratio': 0.0}\n",
    "\n",
    "nmf = cvAUC(NMFPredictor(None, None, None, None, None), grid, 'NMF', verbosity=2)\n",
    "nmf = NMFPredictor('counts', 4, 0, 0, 'nndsvd')\n",
    "nmf.fit(iX, Ytrain)\n",
    "def F(a, b, c): return a.score(b, c)\n",
    "Parallel(n_jobs=1)(delayed(F)(nmf, iX[:1000], Ytrain[:1000]) for i in range(2))"
   ]
  },
  {
   "cell_type": "code",
   "execution_count": 3,
   "metadata": {
    "collapsed": true
   },
   "outputs": [],
   "source": [
    "# Clustering: will use Adamic-Adar as score, prune low-score edges\n",
    "# Offers a coarser clustering (and thus potentially a more generalizing factorization)\n",
    "# by deleting \"tenuous\" edges, smarter prediction on the cluster (Liben-Nowell and Kleninberg 2007).\n",
    "\n",
    "# first, turning into binary undirected graph\n",
    "sym_csr = (train_csr + train_csr.transpose()).sign()\n",
    "simple_graph = nx.from_scipy_sparse_matrix(sym_csr)"
   ]
  },
  {
   "cell_type": "code",
   "execution_count": 37,
   "metadata": {
    "collapsed": false
   },
   "outputs": [
    {
     "name": "stdout",
     "output_type": "stream",
     "text": [
      "1 loop, best of 3: 3.21 s per loop\n"
     ]
    }
   ],
   "source": [
    "%timeit nx.adamic_adar_index(simple_graph, simple_graph.edges()[:10])"
   ]
  },
  {
   "cell_type": "code",
   "execution_count": 4,
   "metadata": {
    "collapsed": false
   },
   "outputs": [
    {
     "name": "stdout",
     "output_type": "stream",
     "text": [
      "single thread days 10.348850520833333 full cycles (152 cpus) mins 98.04174177631579\n"
     ]
    }
   ],
   "source": [
    "n_edges = len(simple_graph.edges())\n",
    "mins = 3.21 / 10 * n_edges / 60\n",
    "tot_cycles_cpus = 38 * 4\n",
    "print('single thread days', mins / 60 / 24,\n",
    "      'full cycles ({} cpus) mins'.format(tot_cycles_cpus),\n",
    "      mins / tot_cycles_cpus)\n",
    "# still feasible to do if we use all of cycles"
   ]
  },
  {
   "cell_type": "code",
   "execution_count": 12,
   "metadata": {
    "collapsed": false
   },
   "outputs": [
    {
     "name": "stdout",
     "output_type": "stream",
     "text": [
      "['0-696371.p', '696371-1392742.p', '1392742-2089113.p', '2089113-2785485.p']\n"
     ]
    }
   ],
   "source": [
    "# see adamic-adar directory for details\n",
    "# with open('data/simple_graph.p', 'wb') as r: pickle.dump(simple_graph, r)\n",
    "offsets = [0, 696371, 1392742, 2089113, 2785485]\n",
    "contents = os.listdir('adamic-adar')\n",
    "\n",
    "pairs = list(zip(*(offsets, offsets[1:])))\n",
    "files = ['{}-{}.p'.format(i, j) for i, j in pairs]\n",
    "print(files)\n",
    "for f in files:\n",
    "    assert f in contents\n",
    "\n",
    "def get_weights(f, i, j):\n",
    "    with open('adamic-adar/' + f, 'rb') as r:\n",
    "        return pickle.load(r)[:j-i]\n",
    "\n",
    "all_edges = list(chain.from_iterable(\n",
    "        get_weights(f, i, j) for f, (i, j) in zip(files, pairs)))\n",
    "\n",
    "all_edges.sort(key=lambda x: x[2])\n",
    "weights = np.array([x[2] for x in all_edges])"
   ]
  },
  {
   "cell_type": "code",
   "execution_count": 13,
   "metadata": {
    "collapsed": false
   },
   "outputs": [
    {
     "ename": "ImportError",
     "evalue": "No module named 'numpy.lib.recfunctions'",
     "output_type": "error",
     "traceback": [
      "\u001b[1;31m---------------------------------------------------------------------------\u001b[0m",
      "\u001b[1;31mImportError\u001b[0m                               Traceback (most recent call last)",
      "\u001b[1;32m<ipython-input-13-3e866d9eddbd>\u001b[0m in \u001b[0;36m<module>\u001b[1;34m()\u001b[0m\n\u001b[1;32m----> 1\u001b[1;33m \u001b[1;32mimport\u001b[0m \u001b[0mstatsmodels\u001b[0m\u001b[1;33m.\u001b[0m\u001b[0mgraphics\u001b[0m\u001b[1;33m.\u001b[0m\u001b[0mgofplots\u001b[0m\u001b[1;33m\u001b[0m\u001b[0m\n\u001b[0m\u001b[0;32m      2\u001b[0m \u001b[0mmu\u001b[0m \u001b[1;33m=\u001b[0m \u001b[0mweights\u001b[0m\u001b[1;33m.\u001b[0m\u001b[0mmean\u001b[0m\u001b[1;33m(\u001b[0m\u001b[1;33m)\u001b[0m\u001b[1;33m\u001b[0m\u001b[0m\n\u001b[0;32m      3\u001b[0m \u001b[0mstd\u001b[0m \u001b[1;33m=\u001b[0m \u001b[0mweights\u001b[0m\u001b[1;33m.\u001b[0m\u001b[0mstd\u001b[0m\u001b[1;33m(\u001b[0m\u001b[1;33m)\u001b[0m\u001b[1;33m\u001b[0m\u001b[0m\n\u001b[0;32m      4\u001b[0m \u001b[0mprint\u001b[0m\u001b[1;33m(\u001b[0m\u001b[1;34m'mean'\u001b[0m\u001b[1;33m,\u001b[0m \u001b[0mmu\u001b[0m\u001b[1;33m,\u001b[0m \u001b[1;34m'std'\u001b[0m\u001b[1;33m,\u001b[0m \u001b[0mstd\u001b[0m\u001b[1;33m)\u001b[0m\u001b[1;33m\u001b[0m\u001b[0m\n\u001b[0;32m      5\u001b[0m \u001b[0mwhitened\u001b[0m \u001b[1;33m=\u001b[0m \u001b[1;33m(\u001b[0m\u001b[0mweights\u001b[0m \u001b[1;33m-\u001b[0m \u001b[0mmu\u001b[0m\u001b[1;33m)\u001b[0m \u001b[1;33m/\u001b[0m \u001b[0mstd\u001b[0m\u001b[1;33m\u001b[0m\u001b[0m\n",
      "\u001b[1;32m/n/fs/cyc424/py/lib/python3.3/site-packages/statsmodels/__init__.py\u001b[0m in \u001b[0;36m<module>\u001b[1;34m()\u001b[0m\n\u001b[0;32m      6\u001b[0m \u001b[1;33m\u001b[0m\u001b[0m\n\u001b[0;32m      7\u001b[0m \u001b[1;32mfrom\u001b[0m \u001b[0mwarnings\u001b[0m \u001b[1;32mimport\u001b[0m \u001b[0msimplefilter\u001b[0m\u001b[1;33m\u001b[0m\u001b[0m\n\u001b[1;32m----> 8\u001b[1;33m from .tools.sm_exceptions import (ConvergenceWarning, CacheWriteWarning,\n\u001b[0m\u001b[0;32m      9\u001b[0m                                   IterationLimitWarning, InvalidTestWarning)\n\u001b[0;32m     10\u001b[0m \u001b[1;33m\u001b[0m\u001b[0m\n",
      "\u001b[1;32m/n/fs/cyc424/py/lib/python3.3/site-packages/statsmodels/tools/__init__.py\u001b[0m in \u001b[0;36m<module>\u001b[1;34m()\u001b[0m\n\u001b[1;32m----> 1\u001b[1;33m \u001b[1;32mfrom\u001b[0m \u001b[1;33m.\u001b[0m\u001b[0mtools\u001b[0m \u001b[1;32mimport\u001b[0m \u001b[0madd_constant\u001b[0m\u001b[1;33m,\u001b[0m \u001b[0mcategorical\u001b[0m\u001b[1;33m\u001b[0m\u001b[0m\n\u001b[0m",
      "\u001b[1;32m/n/fs/cyc424/py/lib/python3.3/site-packages/statsmodels/tools/tools.py\u001b[0m in \u001b[0;36m<module>\u001b[1;34m()\u001b[0m\n\u001b[0;32m      4\u001b[0m \u001b[1;32mfrom\u001b[0m \u001b[0mstatsmodels\u001b[0m\u001b[1;33m.\u001b[0m\u001b[0mcompat\u001b[0m\u001b[1;33m.\u001b[0m\u001b[0mpython\u001b[0m \u001b[1;32mimport\u001b[0m \u001b[0mreduce\u001b[0m\u001b[1;33m,\u001b[0m \u001b[0mlzip\u001b[0m\u001b[1;33m,\u001b[0m \u001b[0mlmap\u001b[0m\u001b[1;33m,\u001b[0m \u001b[0masstr2\u001b[0m\u001b[1;33m,\u001b[0m \u001b[0mrange\u001b[0m\u001b[1;33m\u001b[0m\u001b[0m\n\u001b[0;32m      5\u001b[0m \u001b[1;32mimport\u001b[0m \u001b[0mnumpy\u001b[0m \u001b[1;32mas\u001b[0m \u001b[0mnp\u001b[0m\u001b[1;33m\u001b[0m\u001b[0m\n\u001b[1;32m----> 6\u001b[1;33m \u001b[1;32mimport\u001b[0m \u001b[0mnumpy\u001b[0m\u001b[1;33m.\u001b[0m\u001b[0mlib\u001b[0m\u001b[1;33m.\u001b[0m\u001b[0mrecfunctions\u001b[0m \u001b[1;32mas\u001b[0m \u001b[0mnprf\u001b[0m\u001b[1;33m\u001b[0m\u001b[0m\n\u001b[0m\u001b[0;32m      7\u001b[0m \u001b[1;32mimport\u001b[0m \u001b[0mnumpy\u001b[0m\u001b[1;33m.\u001b[0m\u001b[0mlinalg\u001b[0m \u001b[1;32mas\u001b[0m \u001b[0mL\u001b[0m\u001b[1;33m\u001b[0m\u001b[0m\n\u001b[0;32m      8\u001b[0m \u001b[1;32mfrom\u001b[0m \u001b[0mscipy\u001b[0m\u001b[1;33m.\u001b[0m\u001b[0mlinalg\u001b[0m \u001b[1;32mimport\u001b[0m \u001b[0msvdvals\u001b[0m\u001b[1;33m\u001b[0m\u001b[0m\n",
      "\u001b[1;31mImportError\u001b[0m: No module named 'numpy.lib.recfunctions'"
     ]
    }
   ],
   "source": [
    "import statsmodels.graphics.gofplots\n",
    "mu = weights.mean()\n",
    "std = weights.std()\n",
    "print('mean', mu, 'std', std)\n",
    "whitened = (weights - mu) / std\n",
    "statsmodels.graphics.gofplots.qqplot(whitened)\n",
    "pass"
   ]
  },
  {
   "cell_type": "code",
   "execution_count": 16,
   "metadata": {
    "collapsed": false
   },
   "outputs": [
    {
     "data": {
      "image/png": "[encoded data removed]",
      "text/plain": [
       "<matplotlib.figure.Figure at 0x7ff19aaeca50>"
      ]
     },
     "metadata": {},
     "output_type": "display_data"
    }
   ],
   "source": [
    "statsmodels.graphics.gofplots.qqplot(whitened[whitened < 2])\n",
    "pass"
   ]
  },
  {
   "cell_type": "code",
   "execution_count": 17,
   "metadata": {
    "collapsed": false
   },
   "outputs": [
    {
     "data": {
      "image/png": "[encoded data removed]",
      "text/plain": [
       "<matplotlib.figure.Figure at 0x7ff197554890>"
      ]
     },
     "metadata": {},
     "output_type": "display_data"
    }
   ],
   "source": [
    "statsmodels.graphics.gofplots.qqplot(whitened[whitened < 0.5])\n",
    "pass"
   ]
  },
  {
   "cell_type": "code",
   "execution_count": null,
   "metadata": {
    "collapsed": false
   },
   "outputs": [],
   "source": [
    "n_dropped = n_edges // 2\n",
    "edges_to_drop = list(zip(*((i, j) for i, j, k in all_edges[n_dropped:])))\n",
    "to_prune = csr_matrix(\n",
    "        (np.ones(n_dropped), edges_to_drop), shape=(dim, dim))\n",
    "\n",
    "to_prune = (to_prune + to_prune.transpose()).sign()\n",
    "def prune_mat(m):\n",
    "    return m - to_prune.multiply(m)\n",
    "\n",
    "prune_counts, prune_bin, prune_log = (\n",
    "    prune_mat(m) for m in [train_csr, bincsr, logcsr])\n",
    "\n",
    "def pruned_matrix(A):\n",
    "    if A == 'counts': return prune_counts\n",
    "    elif A == 'binary': return prune_bin\n",
    "    elif A == 'log1p': return prune_log\n",
    "    return None\n",
    "\n",
    "def prunedNMFprob(nmf, i, j):\n",
    "    W, H = nmf\n",
    "    return W[i, :].dot(H[:, j])\n",
    "\n",
    "def makeNMFpruned(A, n_components, alpha, l1_ratio, init):\n",
    "    nmf = NMF(n_components=n_components, init=init, alpha=alpha, l1_ratio=l1_ratio)\n",
    "    W = nmf.fit_transform(pruned_matrix(A))\n",
    "    return W, nmf.components_\n",
    "\n",
    "grid = {\n",
    "    'A': ['counts', 'binary', 'log1p'],\n",
    "    'n_components': range(1, 21),\n",
    "    'alpha': [0], #[0.001, 0.01, 0.1, 1, 10, 100, 1000],\n",
    "    'l1_ratio': [0], #np.arange(0, 1.01, .1),\n",
    "    'init': ['random', 'nndsvd', 'nndsvda']}\n",
    "\n",
    "# Full grid commented out for speed, result of full is same as below.\n",
    "\n",
    "run_auc_grid(prunedNMFprob, makeNMFpruned, grid, 'NMF')\n"
   ]
  },
  {
   "cell_type": "code",
   "execution_count": 24,
   "metadata": {
    "collapsed": false
   },
   "outputs": [
    {
     "name": "stdout",
     "output_type": "stream",
     "text": [
      "in-out jaccard auc 0.6396775\n"
     ]
    }
   ],
   "source": [
    "# Get an AUC on test perf basline with jaccard\n",
    "def sender(row): return bincsr.getrow(int(row['sender']))\n",
    "def receiver(row): return bincsc.getcol(int(row['receiver']))\n",
    "def jaccard(row):\n",
    "    a = sender(row)\n",
    "    b = receiver(row)\n",
    "    union = a + b.transpose()\n",
    "    union = union.sign()\n",
    "    usize = union.dot(union.transpose())[0, 0]\n",
    "    return 0 if usize == 0 else a.dot(b)[0, 0] / usize\n",
    "pred = [jaccard(row) for index,row in dftest.iterrows()]\n",
    "label = dftest['transaction']\n",
    "fpr, tpr, thresholds = roc_curve(label, pred)\n",
    "roc_auc = auc(fpr, tpr)\n",
    "print('in-out jaccard auc', roc_auc)"
   ]
  }
 ],
 "metadata": {
  "kernelspec": {
   "display_name": "Python 3",
   "language": "python",
   "name": "python3"
  },
  "language_info": {
   "codemirror_mode": {
    "name": "ipython",
    "version": 3
   },
   "file_extension": ".py",
   "mimetype": "text/x-python",
   "name": "python",
   "nbconvert_exporter": "python",
   "pygments_lexer": "ipython3",
   "version": "3.3.2"
  }
 },
 "nbformat": 4,
 "nbformat_minor": 0
}
