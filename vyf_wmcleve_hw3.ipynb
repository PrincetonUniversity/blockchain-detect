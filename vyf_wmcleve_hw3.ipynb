{
 "cells": [
  {
   "cell_type": "code",
   "execution_count": 1,
   "metadata": {
    "collapsed": false
   },
   "outputs": [],
   "source": [
    "# Imports\n",
    "\n",
    "%matplotlib inline\n",
    "import matplotlib\n",
    "import matplotlib.pyplot as plt\n",
    "import numpy as np\n",
    "import pickle\n",
    "import pandas as pd\n",
    "import os, os.path\n",
    "from itertools import *\n",
    "import math\n",
    "import random\n",
    "import scipy.stats\n",
    "import sys\n",
    "from joblib import Parallel, delayed\n",
    "import multiprocessing\n",
    "nproc = max(1, multiprocessing.cpu_count())\n",
    "from scipy.sparse import csr_matrix\n",
    "import scipy.sparse\n",
    "from sklearn import cross_validation, base\n",
    "from sklearn.metrics import roc_curve, auc\n",
    "from sklearn.grid_search import ParameterGrid, GridSearchCV\n",
    "from scipy.sparse.linalg import svds\n",
    "from sklearn.decomposition import NMF\n",
    "import networkx as nx\n",
    "import scipy\n",
    "import time\n",
    "    \n",
    "# Warnings\n",
    "\n",
    "import warnings\n",
    "warnings.filterwarnings('ignore')\n",
    "\n",
    "# Uncompress data\n",
    "\n",
    "if not os.path.exists('data'):\n",
    "    os.mkdir('data')\n",
    "\n",
    "def have_data():\n",
    "    return {'testTriplets.txt', 'txTripletsCounts.txt'}.issubset(set(os.listdir('data')))\n",
    "if not have_data():\n",
    "    ! cp Assignment3_Bitcoin/data.zip .\n",
    "\n",
    "# Uncompress data\n",
    "\n",
    "if not os.path.exists('data'):\n",
    "    os.mkdir('data')\n",
    "\n",
    "def have_data():\n",
    "    return {'testTriplets.txt', 'txTripletsCounts.txt'}.issubset(set(os.listdir('data')))\n",
    "if not have_data():\n",
    "    ! cp Assignment3_Bitcoin/data.zip .\n",
    "    ! unzip data.zip\n",
    "    ! rm data.zip\n",
    "    if not have_data():\n",
    "        raise Exception('Error unpacking data')\n",
    "    ! unzip data.zip\n",
    "    ! rm data.zip\n",
    "    if not have_data():\n",
    "        raise Exception('Error unpacking data')\n",
    "        \n",
    "# Extract data in df form and as a sparse matrix\n",
    "\n",
    "dftrain = pd.read_csv('data/txTripletsCounts.txt',\n",
    "                      header=None,\n",
    "                      index_col=None,\n",
    "                      sep=' ',\n",
    "                      names=['sender','receiver','transaction'])\n",
    "\n",
    "dftest = pd.read_csv('data/testTriplets.txt',\n",
    "                     header=None,\n",
    "                     index_col=None,\n",
    "                     sep=' ',\n",
    "                     names=['sender','receiver','transaction'])\n",
    "\n",
    "dim = max(df[c].max() for df in (dftrain, dftest) for c in ['sender', 'receiver'])\n",
    "dim += 1\n",
    "\n",
    "# both the matrices here have m[i, j] return the number of transactions from i to j\n",
    "# in training.\n",
    "train_csr = csr_matrix((dftrain['transaction'],(dftrain['sender'],dftrain['receiver'])),\n",
    "                       shape=(dim,dim),\n",
    "                       dtype=float)\n",
    "\n",
    "train_csc = train_csr.tocsc()\n",
    "\n",
    "def maxlgbin(series): return math.ceil(np.log2(series.max()))\n",
    "\n",
    "bincsr = train_csr.sign()\n",
    "bincsc = train_csc.sign()\n",
    "logcsr = train_csr.log1p()\n",
    "logcsc = train_csc.log1p()"
   ]
  },
  {
   "cell_type": "code",
   "execution_count": null,
   "metadata": {
    "collapsed": true
   },
   "outputs": [],
   "source": [
    "# As a NetworkX graph\n",
    "G = nx.from_scipy_sparse_matrix(train_csr, parallel_edges=False, create_using=nx.DiGraph())"
   ]
  },
  {
   "cell_type": "markdown",
   "metadata": {},
   "source": [
    "Exploratory data analysis"
   ]
  },
  {
   "cell_type": "code",
   "execution_count": null,
   "metadata": {
    "collapsed": false
   },
   "outputs": [],
   "source": [
    "# Time data is not present. Thus, we'll be inferring probability of interaction\n",
    "# as a stationary distribution over time, informed by the number of iteractions in the past.\n",
    "series = dftrain['transaction']\n",
    "title = 'transaction frequency histogram'\n",
    "xlb = 'number of transactions per pair'\n",
    "ylb = 'frequency'\n",
    "\n",
    "print(series.describe())\n",
    "\n",
    "bins = range(maxlgbin(series))\n",
    "plt.figure(figsize=(9,6))\n",
    "plt.axes().set_aspect(9/6)\n",
    "plt.xticks(bins, [r'$2^{{{}}}$'.format(i) for i in bins])\n",
    "plt.hist(series, bins=bins)\n",
    "plt.gca().set_yscale('log', basey=2)\n",
    "plt.title(title)\n",
    "plt.xlabel(xlb)\n",
    "plt.ylabel(ylb)\n",
    "plt.show()"
   ]
  },
  {
   "cell_type": "code",
   "execution_count": null,
   "metadata": {
    "collapsed": false
   },
   "outputs": [],
   "source": [
    "n_sender = dftrain['sender'].unique().size\n",
    "n_receiver = dftrain['receiver'].unique().size\n",
    "n_transactions = dftrain['transaction'].sum()\n",
    "n_nonmissing = dftrain['transaction'].count()\n",
    "sparsity = 1 - n_nonmissing*1.0/n_sender/n_receiver\n",
    "for i in ['n_sender', 'n_receiver', 'n_transactions', 'n_nonmissing', 'sparsity']: print(i, eval(i))\n",
    "print('num edges', len(dftrain))"
   ]
  },
  {
   "cell_type": "code",
   "execution_count": null,
   "metadata": {
    "collapsed": false,
    "scrolled": true
   },
   "outputs": [],
   "source": [
    "# Direction of edges is sender -> receiver\n",
    "send_distribution = pd.Series(np.squeeze(np.asarray(bincsr.sum(0))))\n",
    "recv_distribution = pd.Series(np.squeeze(np.asarray(bincsc.sum(1))))\n",
    "title = 'outdegree/indegree distribution'\n",
    "xlb = 'directed edge count'\n",
    "ylb = 'frequency'\n",
    "\n",
    "print(send_distribution.describe())\n",
    "print(recv_distribution.describe())\n",
    "\n",
    "# http://stackoverflow.com/questions/7694298/how-to-make-a-log-log-histogram-in-python\n",
    "bins = range(max(maxlgbin(x) for x in (send_distribution, recv_distribution)))\n",
    "plt.figure(figsize=(9,6))\n",
    "plt.axes().set_aspect(9/6)\n",
    "plt.xticks(bins, [r'$2^{{{}}}$'.format(i) for i in bins])\n",
    "plt.hist(send_distribution, bins=bins, label='out', alpha=0.75)\n",
    "plt.hist(recv_distribution, bins=bins, label='in', alpha=0.65)\n",
    "plt.legend()\n",
    "#plt.legend()#bbox_to_anchor=(1.05, 1), loc=2, borderaxespad=0.)\n",
    "plt.gca().set_yscale('log', basey=2)\n",
    "plt.title(title)\n",
    "plt.xlabel(xlb)\n",
    "plt.ylabel(ylb)\n",
    "plt.show()"
   ]
  },
  {
   "cell_type": "code",
   "execution_count": null,
   "metadata": {
    "collapsed": false
   },
   "outputs": [],
   "source": [
    "# Get the SCCs (memoized)\n",
    "sccs = None\n",
    "try:\n",
    "    with open('train_sccs.p', 'rb') as infile:\n",
    "        sccs = pickle.load(infile)\n",
    "except FileNotFoundError:\n",
    "    print('SCC file missing, recreating SCCs')\n",
    "    # This takes <1hr on cycles\n",
    "    sccs = list(nx.strongly_connected_components(G))\n",
    "    with open('train_sccs.p', 'wb') as outfile:\n",
    "        pickle.dump(sccs, outfile)"
   ]
  },
  {
   "cell_type": "code",
   "execution_count": null,
   "metadata": {
    "collapsed": false
   },
   "outputs": [],
   "source": [
    "print('# sccs', len(sccs))\n",
    "series = pd.Series(sorted([len(scc) for scc in sccs]))\n",
    "title = 'SCC size distribution'\n",
    "xlb = 'scc sizes'\n",
    "ylb = 'frequency'\n",
    "print(series.describe())\n",
    "for q in [0.9, 0.99, 0.999, 0.9999, 0.99999, 0.999999]:\n",
    "    print('quantile', q, series.quantile(q))"
   ]
  },
  {
   "cell_type": "code",
   "execution_count": null,
   "metadata": {
    "collapsed": false
   },
   "outputs": [],
   "source": [
    "import os\n",
    "os.environ['OMP_NUM_THREADS'] = str(max(nproc // 4, 1))\n",
    "old_flags = os.environ.get('THEANO_FLAGS', '')\n",
    "if 'openmp' not in old_flags:\n",
    "    os.environ['THEANO_FLAGS'] = old_flags + ',openmp=true' + ',openmp_elemwise_minsize=1000'\n",
    "\n",
    "import theano, theano.sparse\n",
    "print('openmp', theano.config.openmp, 'nthreads', nproc)\n",
    "\n",
    "from sklearn.preprocessing import normalize\n",
    "import random\n",
    "\n",
    "# (Takes and Kosters 2013) http://www.mdpi.com/1999-4893/6/1/100/htm\n",
    "# Sample a distribution (only need about 0.1) for these metrics for each vertex\n",
    "nrows = 1000\n",
    "sample = random.sample(range(dim), nrows)\n",
    "\n",
    "def timeddot(x, desc):\n",
    "    t = time.time()\n",
    "    y = f(x)\n",
    "    print(desc, '{}K rows time'.format(nrows // 1000), time.time() - t)\n",
    "    return y\n",
    "\n",
    "x = theano.sparse.csr_matrix(name='x', dtype='float64')\n",
    "y = theano.sparse.dot(x[sample], x.T)\n",
    "f = theano.function([x], y)\n",
    "[dotprod, binprod, logprod] = [timeddot(*x) for x in [\n",
    "    (train_csr, 'regular'),\n",
    "    (train_csr.sign(), 'binary'),\n",
    "    (train_csr.log1p(), 'log1p')]]"
   ]
  },
  {
   "cell_type": "code",
   "execution_count": null,
   "metadata": {
    "collapsed": false
   },
   "outputs": [],
   "source": [
    "# min data contribution\n",
    "for x in ['dot', 'bin', 'log']:\n",
    "    mat = eval(x + 'prod')\n",
    "    data = mat.reshape(mat.size)\n",
    "    print(x, 'zeros', (mat == 0).sum().sum() / mat.size)\n",
    "    print(x, '(mean - median) / std', (data.mean() - np.median(data)) / data.std())\n",
    "    print(x, '(99th - mean) / std', (np.percentile(data, 99) - data.mean()) / data.std())"
   ]
  },
  {
   "cell_type": "code",
   "execution_count": null,
   "metadata": {
    "collapsed": false
   },
   "outputs": [],
   "source": [
    "# Can probably run simrank on full dot product, but no time for custom low-value-removal."
   ]
  },
  {
   "cell_type": "code",
   "execution_count": null,
   "metadata": {
    "collapsed": false
   },
   "outputs": [],
   "source": [
    "# Just check we never get a repeat sender\n",
    "sum(train_csr[row['sender'], row['receiver']] for index, row in dftest.iterrows())"
   ]
  },
  {
   "cell_type": "code",
   "execution_count": 5,
   "metadata": {
    "collapsed": true
   },
   "outputs": [],
   "source": [
    "# Create a simple CV scheme (relying on our time-stationarity assumption)\n",
    "# for evaluation.\n",
    "\n",
    "Xtrain = dftrain[['sender', 'receiver']].values.astype('int')\n",
    "Ytrain = dftrain['transaction'].values.astype('bool')\n",
    "Xtest = dftest[['sender', 'receiver']].values.astype('int')\n",
    "Ytest = dftest['transaction'].values.astype('bool')\n",
    "iX = np.arange(len(Xtrain))\n",
    "n_ones = Ytest.sum()\n",
    "n_zeros = len(Ytest) - n_ones\n",
    "\n",
    "n_folds = 10\n",
    "cv = list(islice(cross_validation.KFold(\n",
    "    len(Ytrain), n_folds=(len(Xtrain) // n_ones), shuffle=True, random_state=0), 0, n_folds))"
   ]
  },
  {
   "cell_type": "code",
   "execution_count": 3,
   "metadata": {
    "collapsed": false
   },
   "outputs": [],
   "source": [
    "def named_matrix(A):\n",
    "    if A == 'counts': return train_csr\n",
    "    elif A == 'binary': return bincsr\n",
    "    elif A == 'log1p': return logcsr\n",
    "    return None\n",
    "\n",
    "def masked_matrix(A, iX):\n",
    "    M = named_matrix(A)\n",
    "    mask = np.ones(len(Xtrain), dtype='bool')\n",
    "    mask[iX] = 0\n",
    "    X = Xtrain[mask]\n",
    "    vals = np.ones(len(X))\n",
    "    X = X.transpose()\n",
    "    disable = csr_matrix((vals, (X[0], X[1])), shape=M.shape)    \n",
    "    return M - M.multiply(disable)\n",
    "\n",
    "def AUC(exact, pred):\n",
    "    fpr, tpr, thresholds = roc_curve(exact, pred)\n",
    "    return auc(fpr, tpr)\n",
    "\n",
    "def sample_one():\n",
    "    while True:\n",
    "        i, j = (random.randint(0, dim - 1) for i in range(2))\n",
    "        if i == j: continue\n",
    "        if not bincsr[i, j]: return [i, j]\n",
    "\n",
    "class CachedTrainingMatrixEstimator(base.BaseEstimator):\n",
    "    def __init__(self):\n",
    "        super(CachedTrainingMatrixEstimator, self).__init__()\n",
    "    \n",
    "    def score(self, iX, Y):\n",
    "        assert abs(len(Y) - n_ones) <= 1\n",
    "        assert np.all(Y > 0)\n",
    "        assert len(iX) == len(Y)\n",
    "        yes_train = Xtrain[iX]\n",
    "        no_train = np.array([sample_one() for i in range(n_zeros)])\n",
    "        pred_yes = self.predict(yes_train)\n",
    "        pred_no = self.predict(no_train)\n",
    "        exact_yes = np.ones(len(pred_yes), dtype='int')\n",
    "        exact_no = np.zeros(len(pred_no), dtype='int')\n",
    "        exact = np.concatenate((exact_yes, exact_no))\n",
    "        pred = np.concatenate((pred_yes, pred_no))\n",
    "        return AUC(exact, pred)\n",
    "\n",
    "def cvAUC(estimator, grid, name, verbosity=0):\n",
    "    print('Running grid search for {}'.format(name))\n",
    "    gse = GridSearchCV(estimator, grid, n_jobs=nproc, verbose=verbosity, cv=cv)\n",
    "    t = time.time()\n",
    "    gse.fit(iX, Ytrain)\n",
    "    t = int(time.time() - t)\n",
    "    print('\\tran cv grid with best AUC {:.4f} in {} s '.format(gse.best_score_, t))\n",
    "    print('\\tmodel:', gse.best_params_)\n",
    "    return gse.best_estimator_\n",
    "\n",
    "def eval_fold(estimator_class, cvfold, param):\n",
    "    param_key = str(sorted(param.items()))    \n",
    "    est = estimator_class(**param)\n",
    "    train_ix, test_ix = cvfold\n",
    "    print(' ' + param_key + '\\n', end='')\n",
    "    sys.stdout.flush()\n",
    "    est.fit(iX[train_ix], Ytrain[train_ix])\n",
    "    return param_key, (est.score(iX[test_ix], Ytrain[test_ix]), len(test_ix), param)\n",
    "\n",
    "def conglomerate_cvs(cvs):\n",
    "    full_dict = {}\n",
    "    for key, (auc, n, param) in cvs:\n",
    "        totauc, tot, param = full_dict.get(key, (0, 0, param))\n",
    "        full_dict[key] = totauc + auc * n, tot + n, param\n",
    "    return max((a / n, param) for k, (a, n, param) in full_dict.items())\n",
    "\n",
    "def cvAUC_broken(estimator_class, grid, name):\n",
    "    print('Running grid search for {}'.format(name))\n",
    "    cv_params = product(cv, ParameterGrid(grid))\n",
    "    t = time.time()\n",
    "    all_cv = Parallel(n_jobs=nproc)(\n",
    "        delayed(eval_fold)(estimator_class, cv, p) for cv, p in cv_params)\n",
    "    t = int(time.time() - t)\n",
    "    best_auc, best_p = conglomerate_cvs(all_cv)\n",
    "    print('\\tran cv grid with best AUC {:.4f} in {} s '.format(best_auc, t))\n",
    "    print('\\tmodel:', best_p)\n",
    "    est = estimator_class(**best_p)\n",
    "    est.fit(iX, Ytrain)\n",
    "    return est"
   ]
  },
  {
   "cell_type": "code",
   "execution_count": 7,
   "metadata": {
    "collapsed": false,
    "scrolled": false
   },
   "outputs": [],
   "source": [
    "import lda\n",
    "\n",
    "class LDAPredict(CachedTrainingMatrixEstimator):\n",
    "    def __init__(self, A, k):\n",
    "        super(LDAPredict, self).__init__()\n",
    "        self.A = A\n",
    "        self.k = k\n",
    "        \n",
    "    def fit(self, iX, y):\n",
    "        X = masked_matrix(self.A, iX).astype('int')\n",
    "        ldaf = lda.LDA(n_topics=self.k)\n",
    "        self.left = ldaf.fit_transform(X)\n",
    "        self.right = ldaf.components_\n",
    "        \n",
    "    def predict(self, X):\n",
    "        senders, receivers = X[:, 0], X[:, 1]\n",
    "        u = self.left[senders, :]\n",
    "        v = self.right[:, receivers].transpose()\n",
    "        return (u * v).sum(axis=1)\n",
    "\n",
    "grid = {\n",
    "    'A': ['counts', 'binary', 'log1p'],\n",
    "    'k': list(range(1, 4))}\n",
    "\n",
    "# Grid commented out for speed, best is same as below.\n",
    "# ldamodel = cvAUC(LDAPredict(None, None), grid, 'LDA', verbosity=2)\n",
    "# AUC ???? for below setup\n",
    "ldamodel = LDAPredict('binary', 4)\n",
    "ldamodel.fit(iX, Ytrain)"
   ]
  },
  {
   "cell_type": "code",
   "execution_count": 15,
   "metadata": {
    "collapsed": false
   },
   "outputs": [],
   "source": [
    "class SVDFactorization(CachedTrainingMatrixEstimator):\n",
    "    def __init__(self, A, k):\n",
    "        super(SVDFactorization, self).__init__()\n",
    "        self.A = A\n",
    "        self.k = k\n",
    "        \n",
    "    def fit(self, iX, y):\n",
    "        X = masked_matrix(self.A, iX)\n",
    "        self.u, self.s, self.vt = svds(X, k=self.k, tol=1e-10, which='LM')\n",
    "        \n",
    "    def predict(self, X):\n",
    "        senders, receivers = X[:, 0], X[:, 1]\n",
    "        sv = self.s[:, np.newaxis] * self.vt[:, receivers]\n",
    "        u = self.u[senders, :]\n",
    "        return (u * sv.transpose()).sum(axis=1)\n",
    "        \n",
    "grid = {\n",
    "    'A': ['counts', 'binary', 'log1p'],\n",
    "    'k': list(range(1, 21))}\n",
    "\n",
    "# Grid commented out for speed, best is same as below.\n",
    "# svd = cvAUC(SVDFactorization(None, None), grid, 'SVD', verbosity=2)\n",
    "# AUC 0.8541 for below setup\n",
    "svd = SVDFactorization('binary', 4)\n",
    "svd.fit(iX, Ytrain)"
   ]
  },
  {
   "cell_type": "code",
   "execution_count": 16,
   "metadata": {
    "collapsed": false
   },
   "outputs": [],
   "source": [
    "def logistic(x): return 1 / (1 + math.exp(-x))\n",
    "\n",
    "vlogistic = np.vectorize(logistic)\n",
    "\n",
    "class NormalizedSVD(SVDFactorization):\n",
    "    def __init__(self, A, k):\n",
    "        super(NormalizedSVD, self).__init__(A, k)\n",
    "        \n",
    "    def fit(self, iX, y):\n",
    "        super(NormalizedSVD, self).fit(iX, y)\n",
    "        \n",
    "    def predict(self, X):\n",
    "        return vlogistic(super(NormalizedSVD, self).predict(X))\n",
    "        \n",
    "grid = {\n",
    "    'A': ['counts', 'binary', 'log1p'],\n",
    "    'k': list(range(1, 21))}\n",
    "\n",
    "# Grid commented out for speed, best is same as below.\n",
    "# nsvd = cvAUC(NormalizedSVD(None, None), grid, 'SVD', verbosity=2)\n",
    "# AUC 0.8543 for below setup\n",
    "nsvd = NormalizedSVD('binary', 4)\n",
    "nsvd.fit(iX, Ytrain)"
   ]
  },
  {
   "cell_type": "code",
   "execution_count": 29,
   "metadata": {
    "collapsed": false
   },
   "outputs": [],
   "source": [
    "def make_NMF(M, n_components, alpha, l1_ratio, init):\n",
    "    from sklearn.decomposition import NMF\n",
    "    nmf = NMF(n_components=n_components, init=init, alpha=alpha, l1_ratio=l1_ratio)\n",
    "    W = nmf.fit_transform(M)\n",
    "    return W, nmf.components_\n",
    "\n",
    "class NMFPredictor(CachedTrainingMatrixEstimator):\n",
    "    def __init__(self, A, n_components, alpha, l1_ratio, init):\n",
    "        super(NMFPredictor, self).__init__()\n",
    "        self.A = A\n",
    "        self.args = (n_components, alpha, l1_ratio, init)\n",
    "        \n",
    "    def fit(self, iX, y):\n",
    "        X = masked_matrix(self.A, iX)\n",
    "        self.W, self.H = make_NMF(X, *self.args)\n",
    "        \n",
    "    def predict(self, X):\n",
    "        senders, receivers = X[:, 0], X[:, 1]\n",
    "        return (self.W[senders, :] * self.H.transpose()[receivers, :]).sum(axis=1)\n",
    "           \n",
    "grid = {\n",
    "    'A': ['counts', 'binary', 'log1p'],\n",
    "    'n_components': list(range(1, 21)), # also 25, 30, 35, 40, tested independently\n",
    "    'alpha': [0.001, 0.01, 0.1, 1, 10, 100, 1000], # also 50\n",
    "    'l1_ratio': [0, 0.5, 1], # also 0.1\n",
    "    'init': ['random', 'nndsvd','nndsvda']}\n",
    "\n",
    "# Grid commented out for speed, best is same as below.\n",
    "# nmf = cvAUC_broken(NMFPredictor, grid, 'NMF')\n",
    "# AUC 0.8724 for below setup\n",
    "nmf = NMFPredictor('log1p', 35, 50, 0, 'nndsvd')\n",
    "nmf.fit(iX, Ytrain)"
   ]
  },
  {
   "cell_type": "code",
   "execution_count": null,
   "metadata": {
    "collapsed": true
   },
   "outputs": [],
   "source": [
    "# Clustering: will use Adamic-Adar as score, prune low-score edges\n",
    "# Offers a coarser clustering (and thus potentially a more generalizing factorization)\n",
    "# by deleting \"tenuous\" edges, smarter prediction on the cluster (Liben-Nowell and Kleninberg 2007).\n",
    "\n",
    "# first, turning into binary undirected graph\n",
    "sym_csr = (train_csr + train_csr.transpose()).sign()\n",
    "simple_graph = nx.from_scipy_sparse_matrix(sym_csr)"
   ]
  },
  {
   "cell_type": "code",
   "execution_count": null,
   "metadata": {
    "collapsed": false
   },
   "outputs": [],
   "source": [
    "%timeit nx.adamic_adar_index(simple_graph, simple_graph.edges()[:10])"
   ]
  },
  {
   "cell_type": "code",
   "execution_count": null,
   "metadata": {
    "collapsed": false
   },
   "outputs": [],
   "source": [
    "n_edges = len(simple_graph.edges())\n",
    "mins = 3.21 / 10 * n_edges / 60\n",
    "tot_cycles_cpus = 38 * 4\n",
    "print('single thread days', mins / 60 / 24,\n",
    "      'full cycles ({} cpus) mins'.format(tot_cycles_cpus),\n",
    "      mins / tot_cycles_cpus)\n",
    "# still feasible to do if we use all of cycles"
   ]
  },
  {
   "cell_type": "code",
   "execution_count": null,
   "metadata": {
    "collapsed": false
   },
   "outputs": [],
   "source": [
    "# see adamic-adar directory for details\n",
    "# with open('data/simple_graph.p', 'wb') as r: pickle.dump(simple_graph, r)\n",
    "n_edges = 2785485\n",
    "offsets = [0, 696371, 1392742, 2089113, 2785485]\n",
    "contents = os.listdir('adamic-adar')\n",
    "\n",
    "pairs = list(zip(*(offsets, offsets[1:])))\n",
    "files = ['{}-{}.p'.format(i, j) for i, j in pairs]\n",
    "print(files)\n",
    "for f in files:\n",
    "    assert f in contents\n",
    "\n",
    "def get_weights(f, i, j):\n",
    "    with open('adamic-adar/' + f, 'rb') as r:\n",
    "        return pickle.load(r)[:j-i]\n",
    "\n",
    "all_edges = list(chain.from_iterable(\n",
    "        get_weights(f, i, j) for f, (i, j) in zip(files, pairs)))\n",
    "\n",
    "assert len(all_edges) == n_edges\n",
    "all_edges.sort(key=lambda x: x[2])\n",
    "weights = np.array([x[2] for x in all_edges])"
   ]
  },
  {
   "cell_type": "code",
   "execution_count": null,
   "metadata": {
    "collapsed": false
   },
   "outputs": [],
   "source": [
    "import statsmodels.graphics.gofplots\n",
    "mu = weights.mean()\n",
    "std = weights.std()\n",
    "print('mean', mu, 'std', std)\n",
    "whitened = (weights - mu) / std\n",
    "statsmodels.graphics.gofplots.qqplot(whitened)\n",
    "pass"
   ]
  },
  {
   "cell_type": "code",
   "execution_count": null,
   "metadata": {
    "collapsed": false
   },
   "outputs": [],
   "source": [
    "n_dropped = n_edges // 10\n",
    "edges_to_drop = {(i, j) for i, j, k in all_edges[n_dropped:]}\n",
    "edges_to_drop.update({(j, i) for i, j in edges_to_drop})\n",
    "\n",
    "filt = ~dftrain[['sender', 'receiver']].apply(lambda x: tuple(x), axis=1).isin(edges_to_drop)\n",
    "restricted = dftrain.loc[filt]\n",
    "# Above code for SVD was then re-run for dftrain set to restricted.\n",
    "# For 10% pruning, the results are:\n",
    "# 0.5482 CV AUC best for binary and 30 components"
   ]
  },
  {
   "cell_type": "code",
   "execution_count": 18,
   "metadata": {
    "collapsed": true
   },
   "outputs": [],
   "source": [
    "# The above is for 10% pruning. 50% pruning run separately gave\n",
    "#  \n",
    "#Running grid search for SVD\n",
    "#Fitting 10 folds for each of 20 candidates, totalling 200 fits\n",
    "#[Parallel(n_jobs=48)]: Done 104 tasks      | elapsed:  6.6min\n",
    "#[Parallel(n_jobs=48)]: Done 200 out of 200 | elapsed: 16.0min finished\n",
    "#        ran cv grid with best AUC 0.6630 in 969 s \n",
    "#        model: {'A': 'binary', 'k': 5}"
   ]
  },
  {
   "cell_type": "code",
   "execution_count": 10,
   "metadata": {
    "collapsed": false
   },
   "outputs": [
    {
     "name": "stdout",
     "output_type": "stream",
     "text": [
      "in-out jaccard auc 0.6396775\n"
     ]
    }
   ],
   "source": [
    "# Get an AUC on test perf basline with jaccard\n",
    "def sender(row): return bincsr.getrow(int(row['sender']))\n",
    "def receiver(row): return bincsc.getcol(int(row['receiver']))\n",
    "def jaccard(row):\n",
    "    a = sender(row)\n",
    "    b = receiver(row)\n",
    "    union = a + b.transpose()\n",
    "    union = union.sign()\n",
    "    usize = union.dot(union.transpose())[0, 0]\n",
    "    return 0 if usize == 0 else a.dot(b)[0, 0] / usize\n",
    "jaccard_pred = [jaccard(row) for index,row in dftest.iterrows()]\n",
    "label = dftest['transaction']\n",
    "jaccard_fpr, jaccard_tpr, thresholds = roc_curve(label, jaccard_pred)\n",
    "roc_auc = auc(jaccard_fpr, jaccard_tpr)\n",
    "print('in-out jaccard auc', roc_auc)"
   ]
  },
  {
   "cell_type": "code",
   "execution_count": 38,
   "metadata": {
    "collapsed": false
   },
   "outputs": [
    {
     "name": "stdout",
     "output_type": "stream",
     "text": [
      "model auc 0.782505833333\n"
     ]
    }
   ],
   "source": [
    "best_model = nmf\n",
    "model_pred = best_model.predict(Xtest)\n",
    "model_fpr, model_tpr, thresholds = roc_curve(label, model_pred)\n",
    "roc_auc = auc(model_fpr, model_tpr)\n",
    "print('model auc', roc_auc)"
   ]
  },
  {
   "cell_type": "code",
   "execution_count": 31,
   "metadata": {
    "collapsed": false
   },
   "outputs": [
    {
     "data": {
      "image/png": "[encoded data removed]",
      "text/plain": [
       "<matplotlib.figure.Figure at 0x7fb2beec5610>"
      ]
     },
     "metadata": {},
     "output_type": "display_data"
    },
    {
     "name": "stdout",
     "output_type": "stream",
     "text": [
      "mean jaccard f1 0.171625263252 max 0.358872960949\n",
      "mean NMF f1 0.376174674922 max 0.490628445424\n"
     ]
    },
    {
     "data": {
      "image/png": "[encoded data removed]",
      "text/plain": [
       "<matplotlib.figure.Figure at 0x7fb2bed4a310>"
      ]
     },
     "metadata": {},
     "output_type": "display_data"
    }
   ],
   "source": [
    "matplotlib.rcParams['figure.figsize'] = (6, 6)\n",
    "\n",
    "#http://scikit-learn.org/stable/modules/generated/sklearn.metrics.roc_curve.html\n",
    "model_name = 'NMF'\n",
    "plt.plot(jaccard_fpr, jaccard_tpr, color='red', label='jaccard')\n",
    "plt.plot(model_fpr, model_tpr, color='blue', label=model_name)\n",
    "plt.plot([0, 1], [0, 1], 'k--')\n",
    "plt.xlim([0.0, 1.0])\n",
    "plt.ylim([0.0, 1.0])\n",
    "plt.xlabel('false postive rate')\n",
    "plt.ylabel('true positive rate')\n",
    "plt.title('receiver operating characteristic example')\n",
    "plt.legend(loc=\"lower right\")\n",
    "plt.show()\n",
    "# http://scikit-learn.org/stable/auto_examples/model_selection/plot_precision_recall.html\n",
    "import matplotlib.pyplot as plt\n",
    "import numpy as np\n",
    "from sklearn.metrics import precision_recall_curve\n",
    "from sklearn.metrics import average_precision_score\n",
    "\n",
    "# Compute Precision-Recall and plot curve\n",
    "jprecision, jrecall, _ = precision_recall_curve(label, jaccard_pred)\n",
    "sprecision, srecall, _ = precision_recall_curve(label, model_pred)\n",
    "jf1 = 2 * jprecision * jrecall / (jprecision + jrecall)\n",
    "jf1 = jf1[~np.isnan(jf1)]\n",
    "sf1 = 2 * sprecision * srecall / (sprecision + srecall)\n",
    "sf1 = sf1[~np.isnan(sf1)]\n",
    "print('mean jaccard f1', jf1.mean(), 'max', jf1.max())\n",
    "print('mean ' + model_name + ' f1', sf1.mean(), 'max', sf1.max())\n",
    "\n",
    "# Plot Precision-Recall curve\n",
    "plt.clf()\n",
    "plt.plot(jrecall, jprecision, label='jaccard', color='red')\n",
    "plt.plot(srecall, sprecision, label='svd', color='blue')\n",
    "plt.xlabel('recall')\n",
    "plt.ylabel('precision')\n",
    "plt.ylim([0.0, 1.0])\n",
    "plt.xlim([0.0, 1.0])\n",
    "plt.legend(loc=\"lower left\")\n",
    "plt.show()"
   ]
  }
 ],
 "metadata": {
  "kernelspec": {
   "display_name": "Python 3",
   "language": "python",
   "name": "python3"
  },
  "language_info": {
   "codemirror_mode": {
    "name": "ipython",
    "version": 3
   },
   "file_extension": ".py",
   "mimetype": "text/x-python",
   "name": "python",
   "nbconvert_exporter": "python",
   "pygments_lexer": "ipython3",
   "version": "3.3.2"
  }
 },
 "nbformat": 4,
 "nbformat_minor": 0
}
